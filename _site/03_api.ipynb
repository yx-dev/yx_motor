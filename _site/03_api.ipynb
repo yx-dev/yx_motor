{
 "cells": [
  {
   "cell_type": "code",
   "execution_count": null,
   "metadata": {},
   "outputs": [],
   "source": [
    "# default_exp api"
   ]
  },
  {
   "cell_type": "markdown",
   "metadata": {},
   "source": [
    "# api\n",
    "> Wrapper for all requests made to server by various submodules."
   ]
  },
  {
   "cell_type": "code",
   "execution_count": null,
   "metadata": {},
   "outputs": [],
   "source": [
    "# export\n",
    "from types import SimpleNamespace\n",
    "import functools\n",
    "\n",
    "import requests\n",
    "\n",
    "# TODO: Break this out into import\n",
    "logger = SimpleNamespace(debug=print)\n",
    "\n",
    "default_headers = {\n",
    "    \"Content-Type\": \"application/json\",\n",
    "    \"Accept\": \"*/*\",\n",
    "    \"Accept-Language\": \"en-US,en;q=0.5\",\n",
    "    \"Accept-Encoding\": \"gzip,deflate\",\n",
    "}\n",
    "\n",
    "\n",
    "# TODO: Wrap this one layer deeper and allow for\n",
    "# passing in a custom logging function as a parameterized\n",
    "# decorator.\n",
    "\n",
    "\n",
    "def log_request(func):\n",
    "    @functools.wraps(func)\n",
    "    def wrapper(*args, **kwargs):\n",
    "        response = func(*args, **kwargs)\n",
    "        # TODO: Add error handling and input validation for this\n",
    "        request_method = response.request.method\n",
    "        request_url = response.url\n",
    "        request_headers = response.request.headers\n",
    "        if logger:\n",
    "            logger.debug(\n",
    "                f\"{request_method} sent to: {request_url}\\n\"\n",
    "                f\"with headers: {request_headers}\\n\"\n",
    "                f\"Response Status: {response.status_code}\"\n",
    "            )\n",
    "        return response\n",
    "\n",
    "    return wrapper\n",
    "\n",
    "\n",
    "class API(object):\n",
    "    def __init__(self, api_url, headers=None):\n",
    "        self.api_url = api_url\n",
    "        headers = headers or default_headers\n",
    "        self.headers = headers.copy()\n",
    "        self.is_authenticated = False\n",
    "        self.jar = requests.cookies.RequestsCookieJar()\n",
    "\n",
    "        self.delete = log_request(self._delete)\n",
    "        self.get = log_request(self._get)\n",
    "        self.post = log_request(self._post)\n",
    "        self.put = log_request(self._put)\n",
    "\n",
    "    def get_path(self, url):\n",
    "        api_url = self.api_url if not self.api_url.endswith(\"/\") else self.api_url[:-1]\n",
    "        template = \"{}{}\" if url.startswith(\"/\") else \"{}/{}\"\n",
    "        return template.format(api_url, url)\n",
    "\n",
    "    def _post(\n",
    "        self,\n",
    "        url,\n",
    "        json=None,\n",
    "        params=None,\n",
    "        files=None,\n",
    "        data=None,\n",
    "        cookies=None,\n",
    "        verify=False,\n",
    "        non_default_headers=None,\n",
    "    ):\n",
    "        if not cookies:\n",
    "            cookies = self.jar\n",
    "        path = self.get_path(url)\n",
    "\n",
    "        if non_default_headers:\n",
    "            headers = non_default_headers\n",
    "        else:\n",
    "            headers = self.headers\n",
    "\n",
    "        response = requests.post(\n",
    "            path,\n",
    "            json=json,\n",
    "            params=params,\n",
    "            headers=headers,\n",
    "            files=files,\n",
    "            data=data,\n",
    "            cookies=cookies,\n",
    "            verify=verify,\n",
    "        )\n",
    "\n",
    "        return response\n",
    "\n",
    "    def _put(self, url, json=None, params=None):\n",
    "        path = self.get_path(url)\n",
    "        logger.debug(\n",
    "            \"PUT request sent to: {} \\n\\theaders: {}\\n\\tjson: {}\\n\\tparams: {}\".format(\n",
    "                path, self.headers, json, params\n",
    "            )\n",
    "        )\n",
    "        response = requests.put(path, json=json, params=params, headers=self.headers)\n",
    "        return response\n",
    "\n",
    "    def _get(\n",
    "        self,\n",
    "        url,\n",
    "        json=None,\n",
    "        params=None,\n",
    "        files=None,\n",
    "        data=None,\n",
    "        cookies=None,\n",
    "        verify=False,\n",
    "    ):\n",
    "        if not cookies:\n",
    "            cookies = self.jar\n",
    "        path = self.get_path(url)\n",
    "        response = requests.get(\n",
    "            path,\n",
    "            params=params,\n",
    "            headers=self.headers,\n",
    "            json=json,\n",
    "            files=files,\n",
    "            data=data,\n",
    "            cookies=cookies,\n",
    "            verify=verify,\n",
    "        )\n",
    "        return response\n",
    "\n",
    "    def _delete(self, url, json=None, params=None):\n",
    "        path = self.get_path(url)\n",
    "        response = requests.delete(path, params=params, headers=self.headers, json=json)\n",
    "        return response"
   ]
  },
  {
   "cell_type": "code",
   "execution_count": null,
   "metadata": {},
   "outputs": [
    {
     "name": "stdout",
     "output_type": "stream",
     "text": [
      "test\n"
     ]
    }
   ],
   "source": [
    "logger.debug(\"test\")"
   ]
  },
  {
   "cell_type": "code",
   "execution_count": null,
   "metadata": {},
   "outputs": [],
   "source": [
    "#hide\n",
    "from private import server_vars"
   ]
  },
  {
   "cell_type": "code",
   "execution_count": null,
   "metadata": {},
   "outputs": [],
   "source": [
    "#hide\n",
    "base_url=server_vars['base_url']\n",
    "login_email = server_vars['login_email']\n",
    "login_pwd = server_vars['login_pwd']"
   ]
  },
  {
   "cell_type": "code",
   "execution_count": null,
   "metadata": {},
   "outputs": [],
   "source": [
    "dev_api = API(api_url=base_url, headers={\n",
    "            \"Content-Type\": \"application/json\",\n",
    "            \"Accept\": \"*/*\",\n",
    "            \"Accept-Language\": \"en-US,en;q=0.5\",\n",
    "            \"Accept-Encoding\": \"gzip,deflate\",\n",
    "        })"
   ]
  },
  {
   "cell_type": "code",
   "execution_count": null,
   "metadata": {},
   "outputs": [],
   "source": []
  }
 ],
 "metadata": {
  "kernelspec": {
   "display_name": "Python 3",
   "language": "python",
   "name": "python3"
  }
 },
 "nbformat": 4,
 "nbformat_minor": 4
}
