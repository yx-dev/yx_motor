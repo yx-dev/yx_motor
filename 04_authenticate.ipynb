{
 "cells": [
  {
   "cell_type": "code",
   "execution_count": 1,
   "metadata": {},
   "outputs": [],
   "source": [
    "# default_exp authenticate"
   ]
  },
  {
   "cell_type": "markdown",
   "metadata": {},
   "source": [
    "# authenticate\n",
    "> Handles authentication for the client"
   ]
  },
  {
   "cell_type": "code",
   "execution_count": 2,
   "metadata": {},
   "outputs": [],
   "source": [
    "# export\n",
    "import requests\n",
    "\n",
    "from yx_motor.api import API\n",
    "\n",
    "\n",
    "class Authenticate:\n",
    "    \"Class for handling authenticate API actions\"\n",
    "\n",
    "    def __init__(self, api: API):\n",
    "        self.api = api\n",
    "        self.base_endpoint = \"authenticate/\"\n",
    "\n",
    "    def authenticate(self, login_email: str, login_pwd: str) -> requests.Response:\n",
    "        payload = {\"email\": login_email, \"password\": login_pwd}\n",
    "        response = self.api.post(url=self.base_endpoint, json=payload)\n",
    "        if response.status_code == 200:\n",
    "            self.api.jar.update(response.cookies)\n",
    "            self.api.is_authenticated = True\n",
    "        return response\n",
    "\n",
    "    def logout(self):\n",
    "        logout_endpoint = f\"{self.base_endpoint}logout\"\n",
    "        response = self.api.post(url=logout_endpoint)\n",
    "        if response.status_code == 204:\n",
    "            self.api.jar.update(response.cookies)\n",
    "            self.api.is_authenticated = False\n",
    "        return response"
   ]
  },
  {
   "cell_type": "code",
   "execution_count": 54,
   "metadata": {},
   "outputs": [],
   "source": [
    "#hide\n",
    "\n",
    "#Unit test code for get_vfs_inputs\n",
    "from unittest.mock import Mock\n"
   ]
  },
  {
   "cell_type": "code",
   "execution_count": 64,
   "metadata": {},
   "outputs": [
    {
     "data": {
      "text/markdown": [
       "<h4 id=\"Authenticate.authenticate\" class=\"doc_header\"><code>Authenticate.authenticate</code><a href=\"__main__.py#L14\" class=\"source_link\" style=\"float:right\">[source]</a></h4>\n",
       "\n",
       "> <code>Authenticate.authenticate</code>(**`login_email`**:`str`, **`login_pwd`**:`str`)\n",
       "\n"
      ],
      "text/plain": [
       "<IPython.core.display.Markdown object>"
      ]
     },
     "metadata": {},
     "output_type": "display_data"
    }
   ],
   "source": [
    "from nbdev.showdoc import *\n",
    "show_doc(Authenticate.authenticate)"
   ]
  },
  {
   "cell_type": "markdown",
   "metadata": {},
   "source": [
    "authenticate receives a login_email and login_pwd from client and attempts to authenticate against the AAH Server.\n",
    "\n",
    "It automatically tests if the response is successful, and updates the cookie jar with the auth token for downstream use."
   ]
  },
  {
   "cell_type": "code",
   "execution_count": 55,
   "metadata": {},
   "outputs": [],
   "source": [
    "#hide\n",
    "api = Mock()\n",
    "api.post = Mock()\n",
    "api.post.return_value = Mock()\n",
    "api.post().status_code = 200"
   ]
  },
  {
   "cell_type": "code",
   "execution_count": 56,
   "metadata": {},
   "outputs": [],
   "source": [
    "authenticate = Authenticate(api)\n",
    "response = authenticate.authenticate('login_email@email.com', 'login_password')"
   ]
  },
  {
   "cell_type": "code",
   "execution_count": 57,
   "metadata": {},
   "outputs": [
    {
     "data": {
      "text/plain": [
       "200"
      ]
     },
     "execution_count": 57,
     "metadata": {},
     "output_type": "execute_result"
    }
   ],
   "source": [
    "response.status_code"
   ]
  },
  {
   "cell_type": "code",
   "execution_count": 58,
   "metadata": {},
   "outputs": [],
   "source": [
    "#hide\n",
    "assert(response.status_code == 200)"
   ]
  },
  {
   "cell_type": "code",
   "execution_count": 65,
   "metadata": {},
   "outputs": [
    {
     "data": {
      "text/markdown": [
       "<h4 id=\"Authenticate.logout\" class=\"doc_header\"><code>Authenticate.logout</code><a href=\"__main__.py#L22\" class=\"source_link\" style=\"float:right\">[source]</a></h4>\n",
       "\n",
       "> <code>Authenticate.logout</code>()\n",
       "\n"
      ],
      "text/plain": [
       "<IPython.core.display.Markdown object>"
      ]
     },
     "metadata": {},
     "output_type": "display_data"
    }
   ],
   "source": [
    "from nbdev.showdoc import *\n",
    "show_doc(Authenticate.logout)"
   ]
  },
  {
   "cell_type": "markdown",
   "metadata": {},
   "source": [
    "logout will end the current session and confirm that a logout was completed successfully. This will render any existing cookies invalid, and also clear out the cookie jar."
   ]
  },
  {
   "cell_type": "code",
   "execution_count": 59,
   "metadata": {},
   "outputs": [],
   "source": [
    "#hide\n",
    "api = Mock()\n",
    "api.post = Mock()\n",
    "api.post.return_value = Mock()\n",
    "api.post().status_code = 204"
   ]
  },
  {
   "cell_type": "code",
   "execution_count": 60,
   "metadata": {},
   "outputs": [
    {
     "data": {
      "text/plain": [
       "<Mock name='mock.post()' id='2758442465152'>"
      ]
     },
     "execution_count": 60,
     "metadata": {},
     "output_type": "execute_result"
    }
   ],
   "source": [
    "#hide\n",
    "authenticate = Authenticate(api)\n",
    "authenticate.authenticate(\n",
    "    login_email='login_email', login_pwd='login_pwd'\n",
    ")"
   ]
  },
  {
   "cell_type": "code",
   "execution_count": 61,
   "metadata": {},
   "outputs": [],
   "source": [
    "response = authenticate.logout()"
   ]
  },
  {
   "cell_type": "code",
   "execution_count": 62,
   "metadata": {},
   "outputs": [
    {
     "data": {
      "text/plain": [
       "204"
      ]
     },
     "execution_count": 62,
     "metadata": {},
     "output_type": "execute_result"
    }
   ],
   "source": [
    "response.status_code"
   ]
  },
  {
   "cell_type": "code",
   "execution_count": 63,
   "metadata": {},
   "outputs": [],
   "source": [
    "#hide\n",
    "assert(response.status_code == 204)"
   ]
  },
  {
   "cell_type": "code",
   "execution_count": null,
   "metadata": {},
   "outputs": [],
   "source": []
  }
 ],
 "metadata": {
  "kernelspec": {
   "display_name": "Python 3",
   "language": "python",
   "name": "python3"
  },
  "language_info": {
   "codemirror_mode": {
    "name": "ipython",
    "version": 3
   },
   "file_extension": ".py",
   "mimetype": "text/x-python",
   "name": "python",
   "nbconvert_exporter": "python",
   "pygments_lexer": "ipython3",
   "version": "3.6.8"
  }
 },
 "nbformat": 4,
 "nbformat_minor": 4
}
