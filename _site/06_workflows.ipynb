{
 "cells": [
  {
   "cell_type": "code",
   "execution_count": null,
   "metadata": {},
   "outputs": [],
   "source": [
    "# default_exp workflows"
   ]
  },
  {
   "cell_type": "markdown",
   "metadata": {},
   "source": [
    "# workflows\n",
    "> Execute workflows on Server"
   ]
  },
  {
   "cell_type": "code",
   "execution_count": null,
   "metadata": {},
   "outputs": [],
   "source": [
    "#hide\n",
    "from yx_motor.tests.utils.unit_test_helpers import (\n",
    "    pickle_object,\n",
    "    unpickle_object,\n",
    "    workflow_test_pickles\n",
    ")"
   ]
  },
  {
   "cell_type": "code",
   "execution_count": null,
   "metadata": {},
   "outputs": [],
   "source": [
    "#hide\n",
    "# just removing the insecure warning for now\n",
    "# TODO: Secure requests and remove this code\n",
    "import urllib3\n",
    "urllib3.disable_warnings(urllib3.exceptions.InsecureRequestWarning)"
   ]
  },
  {
   "cell_type": "code",
   "execution_count": null,
   "metadata": {},
   "outputs": [],
   "source": [
    "# export\n",
    "from typing import List\n",
    "import requests\n",
    "\n",
    "from yx_motor.api import API\n",
    "from yx_motor.files import Files\n",
    "from yx_motor.jobs import Jobs\n",
    "\n",
    "\n",
    "class Workflows:\n",
    "    \"Class for workflow-related API actions\"\n",
    "\n",
    "    def __init__(self, api: API):\n",
    "        self.api = api\n",
    "        self.base_endpoint = \"workflows/\"\n",
    "        self.files = Files(self.api)\n",
    "        self.jobs = Jobs(self.api)\n",
    "\n",
    "    @staticmethod\n",
    "    def build_schedule_payload(schedule_name: str, asset_id: str):\n",
    "        return {\"schedule\": {\"name\": schedule_name, \"assetId\": asset_id,}}\n",
    "\n",
    "    def get_questions(self, asset_id: str):\n",
    "        \"\"\"Return question payload for an asset of type analytic app.\"\"\"\n",
    "        response = self.api.post(url=f\"workflows/{asset_id}/questions\")\n",
    "        return response\n",
    "\n",
    "    def get_vfs_inputs(self, asset_id: str):\n",
    "        \"\"\"Return the list of vfs inputs for a given workflow asset.\"\"\"\n",
    "        response = self.api.get(url=f\"workflows/{asset_id}/vfsInputs\")\n",
    "        return response\n",
    "\n",
    "    def update_vfs_inputs(self, asset_id: str, tool_id: str):\n",
    "        pass\n",
    "\n",
    "    def get_workflow_dependencies(self, asset_id: str):\n",
    "        \"\"\"Return the list of asset dependencies for a given workflow asset\"\"\"\n",
    "        response = self.api.get(url=f\"workflows/{asset_id}/dependencies\")\n",
    "        return response\n",
    "\n",
    "    def update_workflow_dependencies(self, asset_id: str):\n",
    "        pass\n",
    "\n",
    "    def add_workflow_dependency(self, asset_id: str):\n",
    "        pass\n",
    "\n",
    "    def add_workflow_dependency_connection(self, asset_id: str, tool_id: str):\n",
    "        pass\n",
    "\n",
    "    def run_workflow(\n",
    "        self, asset_id: str, schedule_name: str, vfs_inputs: List[str] = None\n",
    "    ):\n",
    "        \"\"\"Schedule a workflow to be executed instantaneously.\n",
    "           Returns a schedule object.\"\"\"\n",
    "        response = self.api.post(\n",
    "            url=\"workflows/run\",\n",
    "            json=self.build_schedule_payload(schedule_name, asset_id),\n",
    "        )\n",
    "        return response\n",
    "\n",
    "    def download_workflow_results(self, schedule_id: str, download_path: str):\n",
    "        # TODO: Input validation\n",
    "        workflow_job = self.jobs.get_job(params={\"scheduleId\": schedule_id})\n",
    "        # TODO: Need to check the status of the job, for completion\n",
    "        # and/or error state before trying to get outputs.\n",
    "\n",
    "        # TODO: Add validation, error handling here\n",
    "        output_asset_id = self.get_wf_job_output(workflow_job)[0]\n",
    "\n",
    "        response = self.files.download_file(\n",
    "            file_uuid=output_asset_id, download_path=download_path\n",
    "        )\n",
    "\n",
    "        return response\n",
    "\n",
    "    @staticmethod\n",
    "    def get_wf_job_output(wf_job: object):\n",
    "        jobs_object = wf_job.json()[\"jobs\"]\n",
    "        job = jobs_object[0]\n",
    "        outputs = job[\"outputs\"]\n",
    "        output_asset_id_list = [file[\"assetId\"] for file in outputs]\n",
    "        return output_asset_id_list"
   ]
  },
  {
   "cell_type": "code",
   "execution_count": null,
   "metadata": {},
   "outputs": [
    {
     "data": {
      "text/markdown": [
       "<h4 id=\"Workflows.get_vfs_inputs\" class=\"doc_header\"><code>Workflows.get_vfs_inputs</code><a href=\"__main__.py#L28\" class=\"source_link\" style=\"float:right\">[source]</a></h4>\n",
       "\n",
       "> <code>Workflows.get_vfs_inputs</code>(**`asset_id`**:`str`)\n",
       "\n",
       "Return the list of vfs inputs for a given workflow asset."
      ],
      "text/plain": [
       "<IPython.core.display.Markdown object>"
      ]
     },
     "metadata": {},
     "output_type": "display_data"
    }
   ],
   "source": [
    "from nbdev.showdoc import *\n",
    "show_doc(Workflows.get_vfs_inputs)"
   ]
  },
  {
   "cell_type": "markdown",
   "metadata": {},
   "source": [
    "**Arguments**:\n",
    "\n",
    "- asset_id: Unique VFS identifier for the workflow you want to execute."
   ]
  },
  {
   "cell_type": "code",
   "execution_count": null,
   "metadata": {},
   "outputs": [],
   "source": [
    "#hide\n",
    "\n",
    "#Unit test code for get_vfs_inputs\n",
    "from unittest.mock import Mock\n",
    "\n",
    "#TODO: write code to use the pickle for a mock response from api\n",
    "mock_response_get_vfs_inputs = unpickle_object(\n",
    "    workflow_test_pickles.workflow_get_vfs_inputs_response_pickle_path\n",
    ")\n",
    "\n",
    "api = Mock()\n",
    "api.get = Mock()\n",
    "api.get.return_value = Mock()\n",
    "api.get().json.return_value = mock_response_get_vfs_inputs"
   ]
  },
  {
   "cell_type": "code",
   "execution_count": null,
   "metadata": {},
   "outputs": [
    {
     "data": {
      "text/plain": [
       "[{'connectionHash': 'ecde0973a04241b152e0d9b8f120c45fa265ff9130f47759dc321d9e8522298e',\n",
       "  'externalPath': 'C:/projects/covid19/county_location_data.csv',\n",
       "  'isInput': True,\n",
       "  'vfsInputMembers': {'effective': [{'permissions': ['CREATE',\n",
       "      'DOWNLOAD',\n",
       "      'EDIT',\n",
       "      'VIEW'],\n",
       "     'partyType': 0,\n",
       "     'partyId': 'a1100000-0000-4000-9000-000000000000',\n",
       "     'createdBy': None,\n",
       "     'fromEntryPath': '/Workspaces/Public',\n",
       "     'fromEntryFolderType': 'GENERIC',\n",
       "     'isOwner': False,\n",
       "     'identity': {'groupId': 'a1100000-0000-4000-9000-000000000000',\n",
       "      'userId': 'a1100000-0000-4000-9000-000000000000',\n",
       "      'id': 'a1100000-0000-4000-9000-000000000000',\n",
       "      'avatar': None,\n",
       "      'email': None,\n",
       "      'name': 'All Users',\n",
       "      'firstName': 'All',\n",
       "      'lastName': 'Users'}},\n",
       "    {'permissions': ['DOWNLOAD', 'VIEW'],\n",
       "     'partyType': 0,\n",
       "     'partyId': 'a1100000-0000-4000-9000-000000000000',\n",
       "     'createdBy': None,\n",
       "     'fromEntryPath': '/Workspaces',\n",
       "     'fromEntryFolderType': 'GENERIC',\n",
       "     'isOwner': False,\n",
       "     'identity': {'groupId': 'a1100000-0000-4000-9000-000000000000',\n",
       "      'userId': 'a1100000-0000-4000-9000-000000000000',\n",
       "      'id': 'a1100000-0000-4000-9000-000000000000',\n",
       "      'avatar': None,\n",
       "      'email': None,\n",
       "      'name': 'All Users',\n",
       "      'firstName': 'All',\n",
       "      'lastName': 'Users'}}],\n",
       "   'path': '/Workspaces/Public/county_location_data.csv',\n",
       "   'assigned': []},\n",
       "  'vfsInputOwner': {'avatar': None,\n",
       "   'email': 'apiuser@example.com',\n",
       "   'firstName': 'Aaaaaaaaaaa',\n",
       "   'id': 'd57f3054-8eeb-4993-b021-cc7c6764d27c',\n",
       "   'lastName': 'ApiTest',\n",
       "   'name': 'Aaaaaaaaaaa ApiTest',\n",
       "   'userName': 'apiuser'},\n",
       "  'hasAccess': True,\n",
       "  'vfsSource': '/Workspaces/Public/county_location_data.csv',\n",
       "  'tools': [{'toolId': 1,\n",
       "    'fileName': 'covid_flow_test.yxmd',\n",
       "    'toolName': 'DbFileInput',\n",
       "    'annotation': 'county_location_data.csv',\n",
       "    'fileFormat': 0}]}]"
      ]
     },
     "execution_count": null,
     "metadata": {},
     "output_type": "execute_result"
    }
   ],
   "source": [
    "workflows = Workflows(api)\n",
    "response = workflows.get_vfs_inputs(asset_id='test_id')\n",
    "response.json()"
   ]
  },
  {
   "cell_type": "code",
   "execution_count": null,
   "metadata": {},
   "outputs": [
    {
     "data": {
      "text/markdown": [
       "<h4 id=\"Workflows.get_workflow_dependencies\" class=\"doc_header\"><code>Workflows.get_workflow_dependencies</code><a href=\"__main__.py#L36\" class=\"source_link\" style=\"float:right\">[source]</a></h4>\n",
       "\n",
       "> <code>Workflows.get_workflow_dependencies</code>(**`asset_id`**:`str`)\n",
       "\n",
       "Return the list of asset dependencies for a given workflow asset"
      ],
      "text/plain": [
       "<IPython.core.display.Markdown object>"
      ]
     },
     "metadata": {},
     "output_type": "display_data"
    }
   ],
   "source": [
    "from nbdev.showdoc import *\n",
    "show_doc(Workflows.get_workflow_dependencies)"
   ]
  },
  {
   "cell_type": "markdown",
   "metadata": {},
   "source": [
    "**Arguments**:\n",
    "\n",
    "- asset_id: Unique VFS identifier for the workflow you want to execute."
   ]
  },
  {
   "cell_type": "code",
   "execution_count": null,
   "metadata": {},
   "outputs": [],
   "source": [
    "#hide\n",
    "\n",
    "# Unit test code for get_workflow_dependencies\n",
    "# NOTE:  get_vfs_inputs SHOULD be returning the vfs input \n",
    "# along with others, but endpoint isn't complete until API is out of beta.\n",
    "# for now, mocking with get_vfs_inputs\n",
    "\n",
    "api = Mock()\n",
    "api.get = Mock()\n",
    "api.get.return_value = Mock()\n",
    "api.get().json.return_value = mock_response_get_vfs_inputs"
   ]
  },
  {
   "cell_type": "code",
   "execution_count": null,
   "metadata": {},
   "outputs": [
    {
     "data": {
      "text/plain": [
       "[{'connectionHash': 'ecde0973a04241b152e0d9b8f120c45fa265ff9130f47759dc321d9e8522298e',\n",
       "  'externalPath': 'C:/projects/covid19/county_location_data.csv',\n",
       "  'isInput': True,\n",
       "  'vfsInputMembers': {'effective': [{'permissions': ['CREATE',\n",
       "      'DOWNLOAD',\n",
       "      'EDIT',\n",
       "      'VIEW'],\n",
       "     'partyType': 0,\n",
       "     'partyId': 'a1100000-0000-4000-9000-000000000000',\n",
       "     'createdBy': None,\n",
       "     'fromEntryPath': '/Workspaces/Public',\n",
       "     'fromEntryFolderType': 'GENERIC',\n",
       "     'isOwner': False,\n",
       "     'identity': {'groupId': 'a1100000-0000-4000-9000-000000000000',\n",
       "      'userId': 'a1100000-0000-4000-9000-000000000000',\n",
       "      'id': 'a1100000-0000-4000-9000-000000000000',\n",
       "      'avatar': None,\n",
       "      'email': None,\n",
       "      'name': 'All Users',\n",
       "      'firstName': 'All',\n",
       "      'lastName': 'Users'}},\n",
       "    {'permissions': ['DOWNLOAD', 'VIEW'],\n",
       "     'partyType': 0,\n",
       "     'partyId': 'a1100000-0000-4000-9000-000000000000',\n",
       "     'createdBy': None,\n",
       "     'fromEntryPath': '/Workspaces',\n",
       "     'fromEntryFolderType': 'GENERIC',\n",
       "     'isOwner': False,\n",
       "     'identity': {'groupId': 'a1100000-0000-4000-9000-000000000000',\n",
       "      'userId': 'a1100000-0000-4000-9000-000000000000',\n",
       "      'id': 'a1100000-0000-4000-9000-000000000000',\n",
       "      'avatar': None,\n",
       "      'email': None,\n",
       "      'name': 'All Users',\n",
       "      'firstName': 'All',\n",
       "      'lastName': 'Users'}}],\n",
       "   'path': '/Workspaces/Public/county_location_data.csv',\n",
       "   'assigned': []},\n",
       "  'vfsInputOwner': {'avatar': None,\n",
       "   'email': 'apiuser@example.com',\n",
       "   'firstName': 'Aaaaaaaaaaa',\n",
       "   'id': 'd57f3054-8eeb-4993-b021-cc7c6764d27c',\n",
       "   'lastName': 'ApiTest',\n",
       "   'name': 'Aaaaaaaaaaa ApiTest',\n",
       "   'userName': 'apiuser'},\n",
       "  'hasAccess': True,\n",
       "  'vfsSource': '/Workspaces/Public/county_location_data.csv',\n",
       "  'tools': [{'toolId': 1,\n",
       "    'fileName': 'covid_flow_test.yxmd',\n",
       "    'toolName': 'DbFileInput',\n",
       "    'annotation': 'county_location_data.csv',\n",
       "    'fileFormat': 0}]}]"
      ]
     },
     "execution_count": null,
     "metadata": {},
     "output_type": "execute_result"
    }
   ],
   "source": [
    "workflows = Workflows(api)\n",
    "response = workflows.get_workflow_dependencies(asset_id='test_id')\n",
    "response.json()"
   ]
  },
  {
   "cell_type": "code",
   "execution_count": null,
   "metadata": {},
   "outputs": [
    {
     "data": {
      "text/markdown": [
       "<h4 id=\"Workflows.run_workflow\" class=\"doc_header\"><code>Workflows.run_workflow</code><a href=\"__main__.py#L50\" class=\"source_link\" style=\"float:right\">[source]</a></h4>\n",
       "\n",
       "> <code>Workflows.run_workflow</code>(**`asset_id`**:`str`, **`schedule_name`**:`str`, **`vfs_inputs`**:`List`\\[`str`\\]=*`None`*)\n",
       "\n",
       "Schedule a workflow to be executed instantaneously.\n",
       "Returns a schedule object."
      ],
      "text/plain": [
       "<IPython.core.display.Markdown object>"
      ]
     },
     "metadata": {},
     "output_type": "display_data"
    }
   ],
   "source": [
    "from nbdev.showdoc import *\n",
    "show_doc(Workflows.run_workflow)"
   ]
  },
  {
   "cell_type": "markdown",
   "metadata": {},
   "source": [
    "**Arguments**:\n",
    "\n",
    "- asset_id: Unique VFS identifier for the workflow you want to execute.\n",
    "- schedule_name: Optional: Name of the schedule that will be created when workflow execution is triggered.\n",
    "- vfs_inputs: Optional: List of vfs asset ids, if desired"
   ]
  },
  {
   "cell_type": "code",
   "execution_count": null,
   "metadata": {},
   "outputs": [],
   "source": [
    "#hide\n",
    "from unittest.mock import Mock\n",
    "\n",
    "run_workflow_response_mock = unpickle_object(workflow_test_pickles.workflow_run_response_pickle)\n",
    "\n",
    "api = Mock()\n",
    "api.post = Mock()\n",
    "api.post.return_value = Mock()\n",
    "api.post().json.return_value = run_workflow_response_mock"
   ]
  },
  {
   "cell_type": "code",
   "execution_count": null,
   "metadata": {},
   "outputs": [
    {
     "data": {
      "text/plain": [
       "{'scheduleId': 'f35045d4-5298-43d2-918b-3281159e05dd',\n",
       " 'name': 'schedule_name_test',\n",
       " 'userId': 'd57f3054-8eeb-4993-b021-cc7c6764d27c',\n",
       " 'assetId': 'cd68ff45-fc21-4a32-b2e9-8d5b85881b7e',\n",
       " 'assetVersion': None,\n",
       " 'runAsId': None,\n",
       " 'toolConnections': None,\n",
       " 'status': 'active',\n",
       " 'startDate': None,\n",
       " 'endDate': None,\n",
       " 'lastRun': None,\n",
       " 'nextRun': None,\n",
       " 'frequencyInterval': 'manual',\n",
       " 'frequencyRule': None,\n",
       " 'type': 'immediate',\n",
       " 'isDisabled': False,\n",
       " 'isDeleted': False,\n",
       " 'comment': None,\n",
       " 'siteId': '2d05e824-7421-4c7a-8e4e-a22d984953c2',\n",
       " 'parameters': {'runMode': 0},\n",
       " 'analyticAppAnswers': None,\n",
       " 'inputFiles': None,\n",
       " 'creationDate': '2020-07-27T21:09:25.035Z',\n",
       " 'lastUpdate': '2020-07-27T21:09:25.035Z',\n",
       " 'outputLocation': None,\n",
       " 'timezone': 'UTC',\n",
       " 'utcOffset': 0,\n",
       " 'priority': 50}"
      ]
     },
     "execution_count": null,
     "metadata": {},
     "output_type": "execute_result"
    }
   ],
   "source": [
    "workflows = Workflows(api)\n",
    "workflows.run_workflow(asset_id=\"test_id\",\n",
    "                       schedule_name=\"jp_client_test\").json()"
   ]
  },
  {
   "cell_type": "code",
   "execution_count": null,
   "metadata": {},
   "outputs": [
    {
     "data": {
      "text/markdown": [
       "<h4 id=\"Workflows.download_workflow_results\" class=\"doc_header\"><code>Workflows.download_workflow_results</code><a href=\"__main__.py#L61\" class=\"source_link\" style=\"float:right\">[source]</a></h4>\n",
       "\n",
       "> <code>Workflows.download_workflow_results</code>(**`schedule_id`**:`str`, **`download_path`**:`str`)\n",
       "\n"
      ],
      "text/plain": [
       "<IPython.core.display.Markdown object>"
      ]
     },
     "metadata": {},
     "output_type": "display_data"
    }
   ],
   "source": [
    "from nbdev.showdoc import *\n",
    "show_doc(Workflows.download_workflow_results)"
   ]
  },
  {
   "cell_type": "markdown",
   "metadata": {},
   "source": [
    "**Arguments**:\n",
    "\n",
    "- schedule_id: Unique identifier for the completed schedule that orchestrated the workflow execution\n",
    "- download_path: Local path to download the scheduled workflow results file to"
   ]
  },
  {
   "cell_type": "code",
   "execution_count": null,
   "metadata": {},
   "outputs": [],
   "source": [
    "#hide\n",
    "\n",
    "#Unit Test Mocks for download_workflow_results\n",
    "\n",
    "workflow_job_response_mock = unpickle_object(\n",
    "    workflow_test_pickles.workflow_job_response_pickle_path\n",
    ")\n",
    "workflow_download_files_response_mock = unpickle_object(\n",
    "    workflow_test_pickles.workflow_download_files_response_pickle_path\n",
    ")"
   ]
  },
  {
   "cell_type": "code",
   "execution_count": null,
   "metadata": {},
   "outputs": [],
   "source": [
    "#hide\n",
    "\n",
    "#Unit test code\n",
    "\n",
    "workflows = Mock()\n",
    "workflows.download_workflow_results = Mock()\n",
    "workflows.download_workflow_results.return_value = workflow_download_files_response_mock\n"
   ]
  },
  {
   "cell_type": "code",
   "execution_count": null,
   "metadata": {},
   "outputs": [
    {
     "data": {
      "text/plain": [
       "<Response [200]>"
      ]
     },
     "execution_count": null,
     "metadata": {},
     "output_type": "execute_result"
    }
   ],
   "source": [
    "workflows.download_workflow_results(schedule_id='test_schedule_id', \n",
    "                                    download_path='wf_out_test.csv')"
   ]
  }
 ],
 "metadata": {
  "kernelspec": {
   "display_name": "Python 3",
   "language": "python",
   "name": "python3"
  },
  "language_info": {
   "codemirror_mode": {
    "name": "ipython",
    "version": 3
   },
   "file_extension": ".py",
   "mimetype": "text/x-python",
   "name": "python",
   "nbconvert_exporter": "python",
   "pygments_lexer": "ipython3",
   "version": "3.6.8"
  }
 },
 "nbformat": 4,
 "nbformat_minor": 4
}
