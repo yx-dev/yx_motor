{
 "cells": [
  {
   "cell_type": "code",
   "execution_count": null,
   "metadata": {},
   "outputs": [],
   "source": [
    "# default_exp jobs"
   ]
  },
  {
   "cell_type": "markdown",
   "metadata": {},
   "source": [
    "# jobs\n",
    "> Handles tracking and managing jobs on server."
   ]
  },
  {
   "cell_type": "code",
   "execution_count": null,
   "metadata": {},
   "outputs": [],
   "source": [
    "# export\n",
    "from yx_motor.api import API\n",
    "\n",
    "\n",
    "class Jobs:\n",
    "    \"Class for tracking and managing jobs\"\n",
    "\n",
    "    def __init__(self, api: API):\n",
    "        self.api = api\n",
    "        self.base_endpoint = \"jobs/\"\n",
    "        self.cancel_endpoint = \"/cancel\"\n",
    "        self.log_endpoint = \"/logs\"\n",
    "\n",
    "    def get_job(self, job_id: str = \"\", params=None):\n",
    "        response = self.api.get(url=f\"{self.base_endpoint}{job_id}\", params=params)\n",
    "        return response\n",
    "\n",
    "    def get_log(self, job_id: str):\n",
    "        response = self.api.get(url=f\"{self.base_endpoint}{job_id}{self.log_endpoint}\")\n",
    "        return response\n",
    "\n",
    "    def cancel_job(self, job_id: str):\n",
    "        response = self.api.post(\n",
    "            url=f\"{self.base_endpoint}{job_id}{self.cancel_endpoint}\"\n",
    "        )\n",
    "        return response"
   ]
  },
  {
   "cell_type": "code",
   "execution_count": null,
   "metadata": {},
   "outputs": [],
   "source": [
    "#hide\n",
    "from yx_motor.tests.utils.unit_test_helpers import (\n",
    "    pickle_object, unpickle_object, jobs_test_pickles\n",
    ")"
   ]
  },
  {
   "cell_type": "code",
   "execution_count": null,
   "metadata": {},
   "outputs": [
    {
     "name": "stdout",
     "output_type": "stream",
     "text": [
      "POST sent to: https://hub-beta.demo.alteryx.com/api/v1/authenticate/\n",
      "with headers: {'User-Agent': 'python-requests/2.23.0', 'Accept-Encoding': 'gzip,deflate', 'Accept': '*/*', 'Connection': 'keep-alive', 'Content-Type': 'application/json', 'Accept-Language': 'en-US,en;q=0.5', 'Content-Length': '57'}\n",
      "Response Status: 200\n"
     ]
    }
   ],
   "source": [
    "#hide\n",
    "# TODO Delete after getting unit tests set up\n",
    "\n",
    "# Integration Test Scaffolding\n",
    "\n",
    "# just removing the insecure warning for now\n",
    "# TODO: Secure requests and remove this code\n",
    "\n",
    "import urllib3\n",
    "urllib3.disable_warnings(urllib3.exceptions.InsecureRequestWarning)\n",
    "\n",
    "from yx_motor.client import Client\n",
    "from private import server_vars\n",
    "\n",
    "base_url = server_vars['base_url']\n",
    "login_email = server_vars['login_email']\n",
    "login_pwd = server_vars['login_pwd']\n",
    "example_client = Client(base_url,\n",
    "                        login_email,\n",
    "                        login_pwd)\n",
    "\n",
    "jobs = Jobs(example_client.api)"
   ]
  },
  {
   "cell_type": "code",
   "execution_count": null,
   "metadata": {},
   "outputs": [
    {
     "name": "stdout",
     "output_type": "stream",
     "text": [
      "GET sent to: https://hub-beta.demo.alteryx.com/api/v1/jobs/\n",
      "with headers: {'User-Agent': 'python-requests/2.23.0', 'Accept-Encoding': 'gzip,deflate', 'Accept': '*/*', 'Connection': 'keep-alive', 'Content-Type': 'application/json', 'Accept-Language': 'en-US,en;q=0.5', 'Cookie': 'ayxSession=s%3A3bcf251c-b990-4ae0-93c5-e16c8064feb0.Fqgn9Tafude6tReobaiJRlRTeTN%2BEx4spkADbXWAnJA'}\n",
      "Response Status: 200\n"
     ]
    }
   ],
   "source": [
    "#hide\n",
    "\n",
    "#Integration Test Scaffolding\n",
    "\n",
    "example_job_id = jobs.get_job().json()['jobs'][0]['jobId']"
   ]
  },
  {
   "cell_type": "code",
   "execution_count": null,
   "metadata": {},
   "outputs": [],
   "source": [
    "#hide\n",
    "from unittest.mock import Mock\n",
    "from yx_motor.job_mocks import get_job_noargs_response"
   ]
  },
  {
   "cell_type": "code",
   "execution_count": null,
   "metadata": {},
   "outputs": [
    {
     "data": {
      "text/markdown": [
       "<h4 id=\"Jobs.get_job\" class=\"doc_header\"><code>Jobs.get_job</code><a href=\"__main__.py#L14\" class=\"source_link\" style=\"float:right\">[source]</a></h4>\n",
       "\n",
       "> <code>Jobs.get_job</code>(**`job_id`**:`str`=*`''`*, **`params`**=*`None`*)\n",
       "\n"
      ],
      "text/plain": [
       "<IPython.core.display.Markdown object>"
      ]
     },
     "metadata": {},
     "output_type": "display_data"
    }
   ],
   "source": [
    "from nbdev.showdoc import *\n",
    "show_doc(Jobs.get_job)"
   ]
  },
  {
   "cell_type": "markdown",
   "metadata": {},
   "source": [
    "Fetch all jobs for the authenticated user, or optionally a specific job if job_id is passed.\n",
    "\n",
    "**Arguments**:\n",
    "- job_id (Optional): The unique identifier for an AAH job.  If no job_id is passed, all jobs for the user will be returned."
   ]
  },
  {
   "cell_type": "code",
   "execution_count": null,
   "metadata": {},
   "outputs": [],
   "source": [
    "#hide\n",
    "\n",
    "#Unit test code\n",
    "\n",
    "api = Mock()\n",
    "api.get = Mock()\n",
    "api.get.return_value = Mock()\n",
    "api.get().json.return_value = get_job_noargs_response"
   ]
  },
  {
   "cell_type": "markdown",
   "metadata": {},
   "source": [
    "Jobs object is intended to be initialized within the client object which passes it an API object. Note that we are doing this for unit test and example purposes"
   ]
  },
  {
   "cell_type": "code",
   "execution_count": null,
   "metadata": {},
   "outputs": [],
   "source": [
    "jobs = Jobs(api)"
   ]
  },
  {
   "cell_type": "markdown",
   "metadata": {},
   "source": [
    "#### Fetch All Jobs for Current User"
   ]
  },
  {
   "cell_type": "markdown",
   "metadata": {},
   "source": [
    "First, let's call the get_job method without a job_id passed to it.  This will return all jobs for a given user."
   ]
  },
  {
   "cell_type": "code",
   "execution_count": null,
   "metadata": {},
   "outputs": [
    {
     "data": {
      "text/plain": [
       "{'jobs': [{'jobId': '845ace15-cfca-46f6-89c5-83cdf9c217a0',\n",
       "   'workerId': '3b0d8827-c3a9-4e1d-ba77-304d339c71a6',\n",
       "   'scheduleId': 'c68a62f6-24dd-47b6-ac5c-840323d0f75b',\n",
       "   'executionOrdinal': 1,\n",
       "   'queuedDate': '2020-04-07T14:01:11.890Z',\n",
       "   'scheduledStartDate': '2020-04-07T14:01:11.890Z',\n",
       "   'actualStartDate': '2020-04-07T14:01:12.741Z',\n",
       "   'completionDate': '2020-04-07T14:02:18.607Z',\n",
       "   'runTime': 66,\n",
       "   'status': 'completed',\n",
       "   'result': 'warning',\n",
       "   'siteId': 'bbb722b8-b902-4371-a87a-a8c79cbf1984',\n",
       "   'creationDate': '2020-04-07T14:01:11.879Z',\n",
       "   'lastUpdate': '2020-04-07T14:02:18.595Z',\n",
       "   'assetVersion': 1,\n",
       "   'retryCount': 0,\n",
       "   'notes': None,\n",
       "   'priority': 50,\n",
       "   'jobNo': 9,\n",
       "   'name': 'oracle_loader.yxzp',\n",
       "   'userId': 'e1dbac67-cefb-4acb-aeb6-6761b0e41c3e',\n",
       "   'assetId': 'ce9ab2b9-353b-44f2-a825-45b3f40ce058',\n",
       "   'type': 'immediate',\n",
       "   'frequencyInterval': 'manual',\n",
       "   'outputs': []},\n",
       "  {'jobId': '5bb5bfc3-dc33-4828-b38d-3023370e5746',\n",
       "   'workerId': '3b0d8827-c3a9-4e1d-ba77-304d339c71a6',\n",
       "   'scheduleId': '770de2d1-e948-4cfc-9782-68c80f4c1db4',\n",
       "   'executionOrdinal': 1,\n",
       "   'queuedDate': '2020-04-07T10:23:11.272Z',\n",
       "   'scheduledStartDate': '2020-04-07T10:23:11.272Z',\n",
       "   'actualStartDate': '2020-04-07T10:23:12.852Z',\n",
       "   'completionDate': '2020-04-07T10:23:13.069Z',\n",
       "   'runTime': 0,\n",
       "   'status': 'completed',\n",
       "   'result': 'success',\n",
       "   'siteId': 'bbb722b8-b902-4371-a87a-a8c79cbf1984',\n",
       "   'creationDate': '2020-04-07T10:23:11.246Z',\n",
       "   'lastUpdate': '2020-04-07T10:23:13.065Z',\n",
       "   'assetVersion': 1,\n",
       "   'retryCount': 0,\n",
       "   'notes': None,\n",
       "   'priority': 100,\n",
       "   'jobNo': 2,\n",
       "   'name': 'New Workflow1.yxmd',\n",
       "   'userId': 'bda670a4-2009-452a-b330-f55978fb5525',\n",
       "   'assetId': '9b75b3d8-56c1-4ce6-bfe1-9aabaea1e65f',\n",
       "   'type': 'validation',\n",
       "   'frequencyInterval': 'manual',\n",
       "   'outputs': []},\n",
       "  {'jobId': '70eb2c26-63e9-4727-8bca-d4640b5d0d31',\n",
       "   'workerId': '3b0d8827-c3a9-4e1d-ba77-304d339c71a6',\n",
       "   'scheduleId': '04d7841d-ff89-4a41-b1c0-aed9974cbc13',\n",
       "   'executionOrdinal': 1,\n",
       "   'queuedDate': '2020-04-07T10:18:30.847Z',\n",
       "   'scheduledStartDate': '2020-04-07T10:18:30.847Z',\n",
       "   'actualStartDate': '2020-04-07T10:22:00.556Z',\n",
       "   'completionDate': '2020-04-07T10:22:04.675Z',\n",
       "   'runTime': 4,\n",
       "   'status': 'completed',\n",
       "   'result': 'success',\n",
       "   'siteId': 'bbb722b8-b902-4371-a87a-a8c79cbf1984',\n",
       "   'creationDate': '2020-04-07T10:18:30.856Z',\n",
       "   'lastUpdate': '2020-04-07T10:22:04.654Z',\n",
       "   'assetVersion': 1,\n",
       "   'retryCount': 0,\n",
       "   'notes': None,\n",
       "   'priority': 50,\n",
       "   'jobNo': 1,\n",
       "   'name': 'SeededOracleWorkflow.yxmd',\n",
       "   'userId': 'e1dbac67-cefb-4acb-aeb6-6761b0e41c3e',\n",
       "   'assetId': '20838bf5-4bad-400d-aa11-14bb796e0005',\n",
       "   'type': 'once',\n",
       "   'frequencyInterval': 'once',\n",
       "   'outputs': [{'fileName': 'simple_question_outputs.csv',\n",
       "     'assetId': '7f7b46d6-9640-49e1-9685-2ac3edf0d926',\n",
       "     'version': 1,\n",
       "     'permissions': ['CREATE', 'DELETE', 'DOWNLOAD', 'EDIT', 'OWNER', 'VIEW'],\n",
       "     'breadcrumbs': ['users', 'siteadmin1', 'simple_question_outputs.csv']}]},\n",
       "  {'jobId': '72728503-d1eb-4dc1-b9f7-7731871673f9',\n",
       "   'workerId': '3b0d8827-c3a9-4e1d-ba77-304d339c71a6',\n",
       "   'scheduleId': 'f50a763a-e8d1-4e34-8365-9a3109fb0009',\n",
       "   'executionOrdinal': 1,\n",
       "   'queuedDate': '2020-04-07T10:24:49.432Z',\n",
       "   'scheduledStartDate': '2020-04-07T10:24:49.432Z',\n",
       "   'actualStartDate': '2020-04-07T10:24:49.556Z',\n",
       "   'completionDate': '2020-04-07T10:24:49.776Z',\n",
       "   'runTime': 0,\n",
       "   'status': 'completed',\n",
       "   'result': 'success',\n",
       "   'siteId': 'bbb722b8-b902-4371-a87a-a8c79cbf1984',\n",
       "   'creationDate': '2020-04-07T10:24:49.416Z',\n",
       "   'lastUpdate': '2020-04-07T10:24:49.775Z',\n",
       "   'assetVersion': 1,\n",
       "   'retryCount': 0,\n",
       "   'notes': None,\n",
       "   'priority': 100,\n",
       "   'jobNo': 3,\n",
       "   'name': 'a a.yxmd',\n",
       "   'userId': 'e1dbac67-cefb-4acb-aeb6-6761b0e41c3e',\n",
       "   'assetId': 'd8ffaa9a-c56e-43a9-bbc4-9475319694aa',\n",
       "   'type': 'validation',\n",
       "   'frequencyInterval': 'manual',\n",
       "   'outputs': []},\n",
       "  {'jobId': '4615db46-8c6e-45a6-a949-8a3679aee319',\n",
       "   'workerId': '3b0d8827-c3a9-4e1d-ba77-304d339c71a6',\n",
       "   'scheduleId': 'cf000f13-8c38-4769-b89e-36966e44f508',\n",
       "   'executionOrdinal': 1,\n",
       "   'queuedDate': '2020-04-07T10:46:43.453Z',\n",
       "   'scheduledStartDate': '2020-04-07T10:46:43.453Z',\n",
       "   'actualStartDate': '2020-04-07T10:46:44.459Z',\n",
       "   'completionDate': '2020-04-07T10:47:05.982Z',\n",
       "   'runTime': 22,\n",
       "   'status': 'completed',\n",
       "   'result': 'success',\n",
       "   'siteId': 'bbb722b8-b902-4371-a87a-a8c79cbf1984',\n",
       "   'creationDate': '2020-04-07T10:46:43.440Z',\n",
       "   'lastUpdate': '2020-04-07T10:47:05.973Z',\n",
       "   'assetVersion': 1,\n",
       "   'retryCount': 0,\n",
       "   'notes': None,\n",
       "   'priority': 50,\n",
       "   'jobNo': 6,\n",
       "   'name': 'ChartingToolAEP.yxmd',\n",
       "   'userId': 'e1dbac67-cefb-4acb-aeb6-6761b0e41c3e',\n",
       "   'assetId': '1706afd7-5c89-4992-8ba8-d723256169ac',\n",
       "   'type': 'immediate',\n",
       "   'frequencyInterval': 'manual',\n",
       "   'outputs': []},\n",
       "  {'jobId': '13caab67-f476-40e5-b83f-a9133b5d2c36',\n",
       "   'workerId': '3b0d8827-c3a9-4e1d-ba77-304d339c71a6',\n",
       "   'scheduleId': 'f35f652a-25d9-4e00-a316-95272bd79916',\n",
       "   'executionOrdinal': 1,\n",
       "   'queuedDate': '2020-04-07T10:46:26.516Z',\n",
       "   'scheduledStartDate': '2020-04-07T10:46:26.516Z',\n",
       "   'actualStartDate': '2020-04-07T10:46:28.369Z',\n",
       "   'completionDate': '2020-04-07T10:46:29.016Z',\n",
       "   'runTime': 1,\n",
       "   'status': 'completed',\n",
       "   'result': 'success',\n",
       "   'siteId': 'bbb722b8-b902-4371-a87a-a8c79cbf1984',\n",
       "   'creationDate': '2020-04-07T10:46:26.509Z',\n",
       "   'lastUpdate': '2020-04-07T10:46:29.008Z',\n",
       "   'assetVersion': 1,\n",
       "   'retryCount': 0,\n",
       "   'notes': None,\n",
       "   'priority': 100,\n",
       "   'jobNo': 5,\n",
       "   'name': 'ChartingToolAEP.yxmd',\n",
       "   'userId': 'bda670a4-2009-452a-b330-f55978fb5525',\n",
       "   'assetId': '1706afd7-5c89-4992-8ba8-d723256169ac',\n",
       "   'type': 'validation',\n",
       "   'frequencyInterval': 'manual',\n",
       "   'outputs': []},\n",
       "  {'jobId': 'e9608f63-8517-41a1-ac5f-488ffa3093e9',\n",
       "   'workerId': '3b0d8827-c3a9-4e1d-ba77-304d339c71a6',\n",
       "   'scheduleId': 'e633f210-7578-4044-a9cb-4532a4e60e86',\n",
       "   'executionOrdinal': 1,\n",
       "   'queuedDate': '2020-04-07T18:46:38.543Z',\n",
       "   'scheduledStartDate': '2020-04-07T18:46:38.543Z',\n",
       "   'actualStartDate': '2020-04-07T18:46:38.738Z',\n",
       "   'completionDate': '2020-04-07T18:46:39.355Z',\n",
       "   'runTime': 1,\n",
       "   'status': 'completed',\n",
       "   'result': 'warning',\n",
       "   'siteId': 'bbb722b8-b902-4371-a87a-a8c79cbf1984',\n",
       "   'creationDate': '2020-04-07T18:46:38.531Z',\n",
       "   'lastUpdate': '2020-04-07T18:46:39.346Z',\n",
       "   'assetVersion': 1,\n",
       "   'retryCount': 0,\n",
       "   'notes': None,\n",
       "   'priority': 50,\n",
       "   'jobNo': 21,\n",
       "   'name': 'crane_rental_data.yxmd',\n",
       "   'userId': 'e1dbac67-cefb-4acb-aeb6-6761b0e41c3e',\n",
       "   'assetId': 'cbcd1fea-ae54-476c-9a3a-67f89b3bc9f9',\n",
       "   'type': 'immediate',\n",
       "   'frequencyInterval': 'manual',\n",
       "   'outputs': [{'fileName': 'output_results.csv',\n",
       "     'assetId': '40776e58-df8d-4713-b1bc-1245f29bf963',\n",
       "     'version': 5,\n",
       "     'permissions': ['CREATE', 'DELETE', 'DOWNLOAD', 'EDIT', 'OWNER', 'VIEW'],\n",
       "     'breadcrumbs': ['users', 'siteadmin1', 'output_results.csv']}]},\n",
       "  {'jobId': '106125e9-0482-4f18-9c2f-a0612560160f',\n",
       "   'workerId': '3b0d8827-c3a9-4e1d-ba77-304d339c71a6',\n",
       "   'scheduleId': '572eb966-7576-4f99-8a30-02bce5f04159',\n",
       "   'executionOrdinal': 1,\n",
       "   'queuedDate': '2020-04-07T17:14:27.647Z',\n",
       "   'scheduledStartDate': '2020-04-07T17:14:27.647Z',\n",
       "   'actualStartDate': '2020-04-07T17:14:28.887Z',\n",
       "   'completionDate': '2020-04-07T17:14:29.475Z',\n",
       "   'runTime': 1,\n",
       "   'status': 'completed',\n",
       "   'result': 'success',\n",
       "   'siteId': 'bbb722b8-b902-4371-a87a-a8c79cbf1984',\n",
       "   'creationDate': '2020-04-07T17:14:27.637Z',\n",
       "   'lastUpdate': '2020-04-07T17:14:29.467Z',\n",
       "   'assetVersion': 1,\n",
       "   'retryCount': 0,\n",
       "   'notes': None,\n",
       "   'priority': 50,\n",
       "   'jobNo': 11,\n",
       "   'name': 'calculating_profit_margin.yxmd',\n",
       "   'userId': 'e1dbac67-cefb-4acb-aeb6-6761b0e41c3e',\n",
       "   'assetId': '092bc07c-c187-4f99-93be-2433763f2fe3',\n",
       "   'type': 'immediate',\n",
       "   'frequencyInterval': 'manual',\n",
       "   'outputs': [{'fileName': 'output_results.csv',\n",
       "     'assetId': '40776e58-df8d-4713-b1bc-1245f29bf963',\n",
       "     'version': 1,\n",
       "     'permissions': ['CREATE', 'DELETE', 'DOWNLOAD', 'EDIT', 'OWNER', 'VIEW'],\n",
       "     'breadcrumbs': ['users', 'siteadmin1', 'output_results.csv']}]},\n",
       "  {'jobId': 'ec822a04-9d4b-40b7-b970-bf9d5b56536c',\n",
       "   'workerId': '3b0d8827-c3a9-4e1d-ba77-304d339c71a6',\n",
       "   'scheduleId': 'bec1fe2b-48c4-4d6b-9f92-68ff09968ffa',\n",
       "   'executionOrdinal': 1,\n",
       "   'queuedDate': '2020-04-07T10:27:07.118Z',\n",
       "   'scheduledStartDate': '2020-04-07T10:27:07.118Z',\n",
       "   'actualStartDate': '2020-04-07T10:27:08.031Z',\n",
       "   'completionDate': '2020-04-07T10:27:08.306Z',\n",
       "   'runTime': 0,\n",
       "   'status': 'completed',\n",
       "   'result': 'success',\n",
       "   'siteId': 'bbb722b8-b902-4371-a87a-a8c79cbf1984',\n",
       "   'creationDate': '2020-04-07T10:27:07.110Z',\n",
       "   'lastUpdate': '2020-04-07T10:27:08.299Z',\n",
       "   'assetVersion': 1,\n",
       "   'retryCount': 0,\n",
       "   'notes': None,\n",
       "   'priority': 100,\n",
       "   'jobNo': 4,\n",
       "   'name': 'a_a.yxmd',\n",
       "   'userId': 'bda670a4-2009-452a-b330-f55978fb5525',\n",
       "   'assetId': 'e796c59b-1540-4757-a93d-17392cdcc047',\n",
       "   'type': 'validation',\n",
       "   'frequencyInterval': 'manual',\n",
       "   'outputs': []},\n",
       "  {'jobId': '5fd41e9f-88a9-48db-b2f9-63221683e01d',\n",
       "   'workerId': '3b0d8827-c3a9-4e1d-ba77-304d339c71a6',\n",
       "   'scheduleId': '699daa2c-c47b-4134-ae94-74f302ed2c32',\n",
       "   'executionOrdinal': 1,\n",
       "   'queuedDate': '2020-04-07T20:06:12.697Z',\n",
       "   'scheduledStartDate': '2020-04-07T20:06:12.697Z',\n",
       "   'actualStartDate': '2020-04-07T20:06:14.109Z',\n",
       "   'completionDate': '2020-04-07T20:06:14.650Z',\n",
       "   'runTime': 1,\n",
       "   'status': 'completed',\n",
       "   'result': 'error',\n",
       "   'siteId': 'bbb722b8-b902-4371-a87a-a8c79cbf1984',\n",
       "   'creationDate': '2020-04-07T20:06:12.684Z',\n",
       "   'lastUpdate': '2020-04-07T20:06:14.635Z',\n",
       "   'assetVersion': 1,\n",
       "   'retryCount': 0,\n",
       "   'notes': None,\n",
       "   'priority': 50,\n",
       "   'jobNo': 35,\n",
       "   'name': 'Supply_Chain_Management2.yxmd',\n",
       "   'userId': 'e1dbac67-cefb-4acb-aeb6-6761b0e41c3e',\n",
       "   'assetId': '0c2e4317-6b60-4513-a872-4574fd71518d',\n",
       "   'type': 'immediate',\n",
       "   'frequencyInterval': 'manual',\n",
       "   'outputs': []}],\n",
       " 'offset': 0,\n",
       " 'limit': 10,\n",
       " 'total': 36}"
      ]
     },
     "execution_count": null,
     "metadata": {},
     "output_type": "execute_result"
    }
   ],
   "source": [
    "response = jobs.get_job()\n",
    "response.json()"
   ]
  },
  {
   "cell_type": "code",
   "execution_count": null,
   "metadata": {},
   "outputs": [],
   "source": [
    "#hide\n",
    "assert response.json() == get_job_noargs_response"
   ]
  },
  {
   "cell_type": "markdown",
   "metadata": {},
   "source": [
    "#### Fetch a Single Job by Job_Id"
   ]
  },
  {
   "cell_type": "code",
   "execution_count": null,
   "metadata": {},
   "outputs": [],
   "source": [
    "#hide\n",
    "\n",
    "# Set up mocks here using get_job_by_id mock with unpickle"
   ]
  },
  {
   "cell_type": "code",
   "execution_count": null,
   "metadata": {},
   "outputs": [
    {
     "name": "stdout",
     "output_type": "stream",
     "text": [
      "GET sent to: https://hub-beta.demo.alteryx.com/api/v1/jobs/9b724581-6796-4c91-9400-5cd7ed21ed47\n",
      "with headers: {'User-Agent': 'python-requests/2.23.0', 'Accept-Encoding': 'gzip,deflate', 'Accept': '*/*', 'Connection': 'keep-alive', 'Content-Type': 'application/json', 'Accept-Language': 'en-US,en;q=0.5', 'Cookie': 'ayxSession=s%3A4f8f6dc1-6396-4e35-9583-0bb43b7b22cc.erfa5MOufXRcHHYP6f6COn%2F8ANJyZfCZAuVcszBM4ZE'}\n",
      "Response Status: 200\n"
     ]
    }
   ],
   "source": [
    "response = jobs.get_job(job_id=example_job_id)"
   ]
  },
  {
   "cell_type": "code",
   "execution_count": null,
   "metadata": {},
   "outputs": [],
   "source": [
    "pickle_object(response, r'test_pickles/jobs/get_job_by_id_response.pkl')"
   ]
  },
  {
   "cell_type": "code",
   "execution_count": null,
   "metadata": {},
   "outputs": [
    {
     "data": {
      "text/plain": [
       "{'jobId': '9b724581-6796-4c91-9400-5cd7ed21ed47',\n",
       " 'workerId': '13499a2c-6037-4e36-8648-705240bf77e2',\n",
       " 'scheduleId': 'e5e9940f-ae78-4ac6-baf4-1bbae7ec52b7',\n",
       " 'executionOrdinal': 1,\n",
       " 'queuedDate': '2020-07-07T17:13:34.826Z',\n",
       " 'scheduledStartDate': '2020-07-07T17:13:34.826Z',\n",
       " 'actualStartDate': '2020-07-07T17:13:35.212Z',\n",
       " 'completionDate': '2020-07-07T17:13:36.826Z',\n",
       " 'runTime': 2,\n",
       " 'status': 'completed',\n",
       " 'result': 'success',\n",
       " 'siteId': '2d05e824-7421-4c7a-8e4e-a22d984953c2',\n",
       " 'creationDate': '2020-07-07T17:13:34.808Z',\n",
       " 'lastUpdate': '2020-07-07T17:13:36.770Z',\n",
       " 'assetVersion': 2,\n",
       " 'retryCount': 0,\n",
       " 'notes': None,\n",
       " 'priority': 50,\n",
       " 'jobNo': 1,\n",
       " 'runStatus': 'completed',\n",
       " 'name': 'ExampleWorkflow.yxmd',\n",
       " 'userId': 'd57f3054-8eeb-4993-b021-cc7c6764d27c',\n",
       " 'assetId': 'ce578f7f-eb54-431e-9752-b5b5bb8d3e5f',\n",
       " 'type': 'immediate',\n",
       " 'frequencyInterval': 'manual',\n",
       " 'outputs': [{'fileName': 'Flowoutput1.csv',\n",
       "   'assetId': '862d1027-83fd-40e3-a82b-110687a8c541',\n",
       "   'version': 1,\n",
       "   'permissions': ['CREATE', 'DELETE', 'DOWNLOAD', 'EDIT', 'OWNER', 'VIEW'],\n",
       "   'breadcrumbs': ['users', 'apiuser', 'Flowoutput1.csv']},\n",
       "  {'fileName': 'Flowoutput2.csv',\n",
       "   'assetId': 'edccd97b-ed12-439f-be8b-aa44f7f43324',\n",
       "   'version': 1,\n",
       "   'permissions': ['CREATE', 'DELETE', 'DOWNLOAD', 'EDIT', 'OWNER', 'VIEW'],\n",
       "   'breadcrumbs': ['users', 'apiuser', 'Flowoutput2.csv']}]}"
      ]
     },
     "execution_count": null,
     "metadata": {},
     "output_type": "execute_result"
    }
   ],
   "source": [
    "response.json()"
   ]
  },
  {
   "cell_type": "code",
   "execution_count": null,
   "metadata": {},
   "outputs": [
    {
     "data": {
      "text/markdown": [
       "<h4 id=\"Jobs.get_log\" class=\"doc_header\"><code>Jobs.get_log</code><a href=\"__main__.py#L18\" class=\"source_link\" style=\"float:right\">[source]</a></h4>\n",
       "\n",
       "> <code>Jobs.get_log</code>(**`job_id`**:`str`)\n",
       "\n"
      ],
      "text/plain": [
       "<IPython.core.display.Markdown object>"
      ]
     },
     "metadata": {},
     "output_type": "display_data"
    }
   ],
   "source": [
    "from nbdev.showdoc import *\n",
    "show_doc(Jobs.get_log)"
   ]
  },
  {
   "cell_type": "markdown",
   "metadata": {},
   "source": [
    "Fetch log for a given job_id.\n",
    "\n",
    "**Arguments**:\n",
    "- job_id: The unique identifier for an AAH job."
   ]
  },
  {
   "cell_type": "code",
   "execution_count": null,
   "metadata": {},
   "outputs": [],
   "source": [
    "#hide\n",
    "\n",
    "# set up mock using get_log_by_id and unpickle obj"
   ]
  },
  {
   "cell_type": "markdown",
   "metadata": {},
   "source": [
    "#### Get the Log for a Job"
   ]
  },
  {
   "cell_type": "code",
   "execution_count": null,
   "metadata": {},
   "outputs": [],
   "source": [
    "jobs = Jobs(example_client.api)"
   ]
  },
  {
   "cell_type": "code",
   "execution_count": null,
   "metadata": {},
   "outputs": [
    {
     "name": "stdout",
     "output_type": "stream",
     "text": [
      "GET sent to: https://hub-beta.demo.alteryx.com/api/v1/jobs/9b724581-6796-4c91-9400-5cd7ed21ed47/logs\n",
      "with headers: {'User-Agent': 'python-requests/2.23.0', 'Accept-Encoding': 'gzip,deflate', 'Accept': '*/*', 'Connection': 'keep-alive', 'Content-Type': 'application/json', 'Accept-Language': 'en-US,en;q=0.5', 'Cookie': 'ayxSession=s%3A4f8f6dc1-6396-4e35-9583-0bb43b7b22cc.erfa5MOufXRcHHYP6f6COn%2F8ANJyZfCZAuVcszBM4ZE'}\n",
      "Response Status: 200\n"
     ]
    }
   ],
   "source": [
    "response = jobs.get_log(job_id=example_job_id)"
   ]
  },
  {
   "cell_type": "code",
   "execution_count": null,
   "metadata": {},
   "outputs": [],
   "source": [
    "pickle_object(response, r'test_pickles/jobs/get_log_by_id_response.pkl')"
   ]
  },
  {
   "cell_type": "code",
   "execution_count": null,
   "metadata": {},
   "outputs": [
    {
     "data": {
      "text/plain": [
       "{'jobId': '9b724581-6796-4c91-9400-5cd7ed21ed47',\n",
       " 'name': 'ExampleWorkflow.yxmd',\n",
       " 'entries': [{'toolId': '-',\n",
       "   'logType': 'worker',\n",
       "   'details': 'Retrieved file ExampleWorkflow.yxmd'},\n",
       "  {'toolId': '-',\n",
       "   'logType': 'worker',\n",
       "   'details': 'Retrieved file FlowInput.csv'},\n",
       "  {'toolId': '-',\n",
       "   'logType': 'worker',\n",
       "   'details': 'Using vfs file /users/apiuser/FlowInput.csv for connection c3b275e023dfd7bac33193302de45a19120b8467ac8471e216867dfdc37355d4'},\n",
       "  {'toolId': '-', 'logType': 'worker', 'details': 'Engine run started'},\n",
       "  {'toolId': '1',\n",
       "   'logType': '8',\n",
       "   'details': 'users\\\\apiuser\\\\FlowInput.csv; 3 records were read from \"users\\\\apiuser\\\\FlowInput.csv\"'},\n",
       "  {'toolId': '3',\n",
       "   'logType': '1',\n",
       "   'details': '1 records were True and 2 were False'},\n",
       "  {'toolId': '4',\n",
       "   'logType': '9',\n",
       "   'details': 'TestWorkflow\\\\Flowoutput1.csv; 1 records were written to \"TestWorkflow\\\\Flowoutput1.csv\"'},\n",
       "  {'toolId': '5',\n",
       "   'logType': '9',\n",
       "   'details': 'TestWorkflow\\\\Flowoutput2.csv; 2 records were written to \"TestWorkflow\\\\Flowoutput2.csv\"'},\n",
       "  {'toolId': '-',\n",
       "   'logType': 'worker',\n",
       "   'details': 'Engine run finished in 0.83 seconds'},\n",
       "  {'toolId': '-',\n",
       "   'logType': 'worker',\n",
       "   'details': 'Uploaded output file Flowoutput1.csv'},\n",
       "  {'toolId': '-',\n",
       "   'logType': 'worker',\n",
       "   'details': 'Uploaded output file Flowoutput2.csv'}],\n",
       " 'completionDate': '2020-07-07T17:13:36.826Z'}"
      ]
     },
     "execution_count": null,
     "metadata": {},
     "output_type": "execute_result"
    }
   ],
   "source": [
    "response.json()"
   ]
  },
  {
   "cell_type": "code",
   "execution_count": null,
   "metadata": {},
   "outputs": [
    {
     "data": {
      "text/markdown": [
       "<h4 id=\"Jobs.cancel_job\" class=\"doc_header\"><code>Jobs.cancel_job</code><a href=\"__main__.py#L22\" class=\"source_link\" style=\"float:right\">[source]</a></h4>\n",
       "\n",
       "> <code>Jobs.cancel_job</code>(**`job_id`**:`str`)\n",
       "\n"
      ],
      "text/plain": [
       "<IPython.core.display.Markdown object>"
      ]
     },
     "metadata": {},
     "output_type": "display_data"
    }
   ],
   "source": [
    "from nbdev.showdoc import *\n",
    "show_doc(Jobs.cancel_job)"
   ]
  },
  {
   "cell_type": "markdown",
   "metadata": {},
   "source": [
    "Cancel a running job with the given job_id.\n",
    "\n",
    "**Arguments**:\n",
    "\n",
    "- job_id: Unique identifier for the job you'd like to cancel.  "
   ]
  },
  {
   "cell_type": "code",
   "execution_count": null,
   "metadata": {},
   "outputs": [],
   "source": [
    "#hide\n",
    "\n",
    "#TODO: Need to get the workflows api code in here for integration tests,\n",
    "# to allow for executing a workflow, fetching the job id and then cancelling\n",
    "# the job."
   ]
  },
  {
   "cell_type": "markdown",
   "metadata": {},
   "source": [
    "#### Cancel a Running Job"
   ]
  },
  {
   "cell_type": "code",
   "execution_count": null,
   "metadata": {},
   "outputs": [
    {
     "name": "stdout",
     "output_type": "stream",
     "text": [
      "GET sent to: https://hub-beta.demo.alteryx.com/api/v1/jobs/\n",
      "with headers: {'User-Agent': 'python-requests/2.23.0', 'Accept-Encoding': 'gzip,deflate', 'Accept': '*/*', 'Connection': 'keep-alive', 'Content-Type': 'application/json', 'Accept-Language': 'en-US,en;q=0.5', 'Cookie': 'ayxSession=s%3A4f8f6dc1-6396-4e35-9583-0bb43b7b22cc.erfa5MOufXRcHHYP6f6COn%2F8ANJyZfCZAuVcszBM4ZE'}\n",
      "Response Status: 200\n",
      "GET sent to: https://hub-beta.demo.alteryx.com/api/v1/jobs/\n",
      "with headers: {'User-Agent': 'python-requests/2.23.0', 'Accept-Encoding': 'gzip,deflate', 'Accept': '*/*', 'Connection': 'keep-alive', 'Content-Type': 'application/json', 'Accept-Language': 'en-US,en;q=0.5', 'Cookie': 'ayxSession=s%3A4f8f6dc1-6396-4e35-9583-0bb43b7b22cc.erfa5MOufXRcHHYP6f6COn%2F8ANJyZfCZAuVcszBM4ZE'}\n",
      "Response Status: 200\n",
      "completed\n",
      "POST sent to: https://hub-beta.demo.alteryx.com/api/v1/jobs/9b724581-6796-4c91-9400-5cd7ed21ed47/cancel\n",
      "with headers: {'User-Agent': 'python-requests/2.23.0', 'Accept-Encoding': 'gzip,deflate', 'Accept': '*/*', 'Connection': 'keep-alive', 'Content-Type': 'application/json', 'Accept-Language': 'en-US,en;q=0.5', 'Cookie': 'ayxSession=s%3A4f8f6dc1-6396-4e35-9583-0bb43b7b22cc.erfa5MOufXRcHHYP6f6COn%2F8ANJyZfCZAuVcszBM4ZE', 'Content-Length': '0'}\n",
      "Response Status: 400\n"
     ]
    }
   ],
   "source": [
    "# For demonstration purposes, I trigger a workflow on AAH which takes 30 \n",
    "# seconds to run.  I then run this code as soon as the job is kicked off, \n",
    "# to ensure I can cancel the job before it completes.\n",
    "\n",
    "running_job_id = jobs.get_job().json()['jobs'][0]['jobId']\n",
    "print(jobs.get_job().json()['jobs'][0]['status'])\n",
    "\n",
    "response = jobs.cancel_job(job_id=running_job_id)"
   ]
  },
  {
   "cell_type": "code",
   "execution_count": null,
   "metadata": {},
   "outputs": [
    {
     "data": {
      "text/plain": [
       "204"
      ]
     },
     "execution_count": null,
     "metadata": {},
     "output_type": "execute_result"
    }
   ],
   "source": [
    "response.status_code"
   ]
  }
 ],
 "metadata": {
  "kernelspec": {
   "display_name": "Python 3",
   "language": "python",
   "name": "python3"
  }
 },
 "nbformat": 4,
 "nbformat_minor": 4
}
