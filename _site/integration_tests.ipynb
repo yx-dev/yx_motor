{
 "cells": [
  {
   "cell_type": "code",
   "execution_count": null,
   "metadata": {},
   "outputs": [],
   "source": [
    "# default_exp seed_integration_tests"
   ]
  },
  {
   "cell_type": "code",
   "execution_count": null,
   "metadata": {},
   "outputs": [],
   "source": [
    "#export\n",
    "\n",
    "from pathlib import Path\n",
    "\n",
    "def seed_workflow(dev_client: object,\n",
    "                  workflow_path: str,\n",
    "                  upload_path: str):\n",
    "    workflow_path = Path(workflow_path)\n",
    "    workflow_name = workflow_path.name\n",
    "\n",
    "    workflow_response = dev_client.files.upload_file(filename=workflow_path,\n",
    "                                                     upload_path=f\"{upload_path}{workflow_name}\",\n",
    "                                                     conflict_action=\"MERGE\")\n",
    "\n",
    "    assert(workflow_response.status_code == 200)\n",
    "\n",
    "    return workflow_response.json()\n",
    "\n",
    "def scaffold_workflows_integration_tests(client):\n",
    "    questions_workflow_path = Path(r'test_workflows/simple_questions.yxwz')\n",
    "\n",
    "    workflow_a_path = Path(r'WorkflowA.yxmd')\n",
    "\n",
    "    workflow_b_path = Path(r'WorkflowB.yxmd')\n",
    "\n",
    "    aah_upload_path = r'/Workspaces/Public/'\n",
    "\n",
    "    questions_workflow = seed_workflow(client,\n",
    "                                       questions_workflow_path,\n",
    "                                       aah_upload_path)\n",
    "\n",
    "    workflow_a_json = seed_workflow(client,\n",
    "                                    workflow_a_path,\n",
    "                                    aah_upload_path)\n",
    "\n",
    "    workflow_b_json = seed_workflow(client,\n",
    "                                    workflow_b_path,\n",
    "                                    aah_upload_path)\n",
    "\n",
    "    workflow_a_path = workflow_a_json['path']\n",
    "    workflow_a_uuid = workflow_a_json['uuid']\n",
    "    workflow_a_content_id = workflow_a_json['contentId']\n",
    "\n",
    "    workflow_b_path = workflow_b_json['path']\n",
    "    workflow_b_uuid = workflow_b_json['uuid']\n",
    "    workflow_b_content_id = workflow_b_json['contentId']\n",
    "\n",
    "    questions_wf_path = questions_workflow['path']\n",
    "    questions_wf_uuid = questions_workflow['uuid']\n",
    "    questions_wf_content_id = questions_workflow['contentId']\n",
    "\n",
    "def fetch_all_jobs(client):\n",
    "    response = client.jobs.get_job()\n",
    "    jobs_list = response.json().get('jobs')\n",
    "    return jobs_list\n",
    "\n",
    "def test_can_get_jobs_with_no_args(client):\n",
    "    response = client.jobs.get_job()\n",
    "    assert(response.status_code == 200)\n",
    "\n",
    "def test_that_server_has_jobs_available(client):\n",
    "    jobs_list = fetch_all_jobs(client)\n",
    "    assert(jobs_list is not None)\n",
    "    assert(type(jobs_list) == list)\n",
    "    assert(len(jobs_list) > 0)\n",
    "\n",
    "def test_can_get_job_by_id(client):\n",
    "    jobs_list = fetch_all_jobs(client)\n",
    "    test_job = jobs_list[0]\n",
    "    test_job_id = test_job.get('jobId')\n",
    "    response = client.jobs.get_job(job_id=test_job_id)\n",
    "    assert(response.json() == test_job)\n",
    "\n",
    "def test_get_log_functionality(client):\n",
    "    jobs_list = fetch_all_jobs(client)\n",
    "    test_job = jobs_list[0]\n",
    "    test_job_id = test_job.get('jobId')\n",
    "    response = client.jobs.get_log(job_id=test_job_id)\n",
    "    assert(response.status_code == 200)\n",
    "    assert(response.json().get('jobId') == test_job_id)\n",
    "    assert(response.json().get('entries'))\n",
    "    assert(len(response.json().get('entries')) > 0)\n",
    "\n",
    "\n",
    "def test_cancel_job_functionality(client):\n",
    "    import time\n",
    "\n",
    "    workflow_a_path = Path(r'WorkflowA.yxmd')\n",
    "\n",
    "    aah_upload_path = r'/Workspaces/Public/'\n",
    "\n",
    "    workflow_a_json = seed_workflow(client,\n",
    "                                    workflow_a_path,\n",
    "                                    aah_upload_path)\n",
    "\n",
    "    workflow_a_path = workflow_a_json['path']\n",
    "    workflow_a_uuid = workflow_a_json['uuid']\n",
    "    workflow_a_content_id = workflow_a_json['contentId']\n",
    "\n",
    "    run_workflow_response = client.workflows.run_workflow(\n",
    "        asset_id=workflow_a_uuid,\n",
    "        schedule_name=\"int_test\"\n",
    "    )\n",
    "\n",
    "    schedule_id = run_workflow_response.json().get('scheduleId')\n",
    "    if schedule_id:\n",
    "        workflow_job = client.jobs.get_job(params={\n",
    "            \"scheduleId\": schedule_id\n",
    "        })\n",
    "        running_job = workflow_job.json().get('jobs')[0]\n",
    "        running_job_id = running_job.get('jobId')\n",
    "        running_job_status = running_job.get('status')\n",
    "\n",
    "        print(running_job_status)\n",
    "        cancelled_job = client.jobs.cancel_job(job_id=running_job_id)\n",
    "\n",
    "        assert(cancelled_job.status_code == 204)\n",
    "\n",
    "        cancelled_job = client.jobs.get_job(job_id=running_job_id)\n",
    "\n",
    "        assert(cancelled_job.json().get('status') == 'canceled')\n",
    "\n",
    "    assert(schedule_id is not None)"
   ]
  },
  {
   "cell_type": "code",
   "execution_count": null,
   "metadata": {},
   "outputs": [],
   "source": [
    "#export\n",
    "\n",
    "def seed_workflow_files(client):\n",
    "    files = client.files\n",
    "    workflow_A_name = \"WorkflowA.yxmd\"\n",
    "    workflow_B_name = \"WorkflowB.yxmd\"\n",
    "    workflow_A = files.upload_file(workflow_A_name,\n",
    "                                   upload_path=f\"/Workspaces/Public/{workflow_A_name}\",\n",
    "                                   conflict_action=\"MERGE\").json()\n",
    "    workflow_B = files.upload_file(workflow_B_name,\n",
    "                                   upload_path=f\"/Workspaces/Public/{workflow_B_name}\",\n",
    "                                   conflict_action=\"MERGE\").json()\n",
    "    return (workflow_A, workflow_B)"
   ]
  },
  {
   "cell_type": "markdown",
   "metadata": {},
   "source": [
    "# Integration Tests\n",
    "\n",
    "Only run these when you are able to connect to an actual Alteryx Analytics Hub test instance.  \n",
    "\n",
    "The creds for this instance are expected to be stored in a file called \"private.py\" stored in the local development directory."
   ]
  },
  {
   "cell_type": "markdown",
   "metadata": {},
   "source": [
    "## Setup and Client Tests"
   ]
  },
  {
   "cell_type": "code",
   "execution_count": null,
   "metadata": {},
   "outputs": [
    {
     "name": "stdout",
     "output_type": "stream",
     "text": [
      "POST sent to: https://hub-beta.demo.alteryx.com/api/v1/authenticate/\n",
      "with headers: {'User-Agent': 'python-requests/2.23.0', 'Accept-Encoding': 'gzip,deflate', 'Accept': '*/*', 'Connection': 'keep-alive', 'Content-Type': 'application/json', 'Accept-Language': 'en-US,en;q=0.5', 'Content-Length': '57'}\n",
      "Response Status: 200\n"
     ]
    }
   ],
   "source": [
    "#hide\n",
    "import urllib3\n",
    "urllib3.disable_warnings(urllib3.exceptions.InsecureRequestWarning)\n",
    "\n",
    "######################### Integration Test Scaffolding ############################\n",
    "from yx_motor.client import Client\n",
    "\n",
    "from private import server_vars\n",
    "\n",
    "base_url=server_vars['base_url']\n",
    "login_email = server_vars['login_email']\n",
    "login_pwd = server_vars['login_pwd']\n",
    "\n",
    "dev_client = Client(base_url=base_url,\n",
    "                    login_email=login_email,\n",
    "                    login_pwd=login_pwd)\n",
    "\n",
    "assert(dev_client.api.is_authenticated)"
   ]
  },
  {
   "cell_type": "markdown",
   "metadata": {},
   "source": [
    "## Jobs Integration Tests"
   ]
  },
  {
   "cell_type": "code",
   "execution_count": null,
   "metadata": {},
   "outputs": [],
   "source": [
    "#hide\n",
    "#job_id = '337ce711-bdcf-4f33-a2f6-81c36a727c58'\n",
    "#dev_client.jobs.get_log(job_id=job_id).json()"
   ]
  },
  {
   "cell_type": "code",
   "execution_count": null,
   "metadata": {},
   "outputs": [
    {
     "name": "stdout",
     "output_type": "stream",
     "text": [
      "GET sent to: https://hub-beta.demo.alteryx.com/api/v1/jobs/\n",
      "with headers: {'User-Agent': 'python-requests/2.23.0', 'Accept-Encoding': 'gzip,deflate', 'Accept': '*/*', 'Connection': 'keep-alive', 'Content-Type': 'application/json', 'Accept-Language': 'en-US,en;q=0.5', 'Cookie': 'ayxSession=s%3Abfcccf6b-25dd-487e-b7fa-e8ac28eb5649.VFMAUKICmWrsT%2BoAiKCW2gJZRL6mGYOk39EB5AVjs7I'}\n",
      "Response Status: 200\n",
      "GET sent to: https://hub-beta.demo.alteryx.com/api/v1/jobs/9b724581-6796-4c91-9400-5cd7ed21ed47/logs\n",
      "with headers: {'User-Agent': 'python-requests/2.23.0', 'Accept-Encoding': 'gzip,deflate', 'Accept': '*/*', 'Connection': 'keep-alive', 'Content-Type': 'application/json', 'Accept-Language': 'en-US,en;q=0.5', 'Cookie': 'ayxSession=s%3Abfcccf6b-25dd-487e-b7fa-e8ac28eb5649.VFMAUKICmWrsT%2BoAiKCW2gJZRL6mGYOk39EB5AVjs7I'}\n",
      "Response Status: 200\n",
      "GET sent to: https://hub-beta.demo.alteryx.com/api/v1/jobs/\n",
      "with headers: {'User-Agent': 'python-requests/2.23.0', 'Accept-Encoding': 'gzip,deflate', 'Accept': '*/*', 'Connection': 'keep-alive', 'Content-Type': 'application/json', 'Accept-Language': 'en-US,en;q=0.5', 'Cookie': 'ayxSession=s%3Abfcccf6b-25dd-487e-b7fa-e8ac28eb5649.VFMAUKICmWrsT%2BoAiKCW2gJZRL6mGYOk39EB5AVjs7I'}\n",
      "Response Status: 200\n",
      "GET sent to: https://hub-beta.demo.alteryx.com/api/v1/jobs/\n",
      "with headers: {'User-Agent': 'python-requests/2.23.0', 'Accept-Encoding': 'gzip,deflate', 'Accept': '*/*', 'Connection': 'keep-alive', 'Content-Type': 'application/json', 'Accept-Language': 'en-US,en;q=0.5', 'Cookie': 'ayxSession=s%3Abfcccf6b-25dd-487e-b7fa-e8ac28eb5649.VFMAUKICmWrsT%2BoAiKCW2gJZRL6mGYOk39EB5AVjs7I'}\n",
      "Response Status: 200\n",
      "GET sent to: https://hub-beta.demo.alteryx.com/api/v1/jobs/\n",
      "with headers: {'User-Agent': 'python-requests/2.23.0', 'Accept-Encoding': 'gzip,deflate', 'Accept': '*/*', 'Connection': 'keep-alive', 'Content-Type': 'application/json', 'Accept-Language': 'en-US,en;q=0.5', 'Cookie': 'ayxSession=s%3Abfcccf6b-25dd-487e-b7fa-e8ac28eb5649.VFMAUKICmWrsT%2BoAiKCW2gJZRL6mGYOk39EB5AVjs7I'}\n",
      "Response Status: 200\n",
      "GET sent to: https://hub-beta.demo.alteryx.com/api/v1/jobs/9b724581-6796-4c91-9400-5cd7ed21ed47\n",
      "with headers: {'User-Agent': 'python-requests/2.23.0', 'Accept-Encoding': 'gzip,deflate', 'Accept': '*/*', 'Connection': 'keep-alive', 'Content-Type': 'application/json', 'Accept-Language': 'en-US,en;q=0.5', 'Cookie': 'ayxSession=s%3Abfcccf6b-25dd-487e-b7fa-e8ac28eb5649.VFMAUKICmWrsT%2BoAiKCW2gJZRL6mGYOk39EB5AVjs7I'}\n",
      "Response Status: 200\n",
      "POST sent to: https://hub-beta.demo.alteryx.com/api/v1/files/\n",
      "with headers: {'User-Agent': 'python-requests/2.23.0', 'Accept-Encoding': 'gzip,deflate', 'Accept': '*/*', 'Connection': 'keep-alive', 'Content-Type': 'application/json', 'Accept-Language': 'en-US,en;q=0.5', 'path': '/Workspaces/Public/WorkflowA.yxmd', 'conflict_action': 'MERGE', 'Cookie': 'ayxSession=s%3Abfcccf6b-25dd-487e-b7fa-e8ac28eb5649.VFMAUKICmWrsT%2BoAiKCW2gJZRL6mGYOk39EB5AVjs7I', 'Content-Length': '3250'}\n",
      "Response Status: 200\n",
      "POST sent to: https://hub-beta.demo.alteryx.com/api/v1/workflows/run\n",
      "with headers: {'User-Agent': 'python-requests/2.23.0', 'Accept-Encoding': 'gzip,deflate', 'Accept': '*/*', 'Connection': 'keep-alive', 'Content-Type': 'application/json', 'Accept-Language': 'en-US,en;q=0.5', 'Cookie': 'ayxSession=s%3Abfcccf6b-25dd-487e-b7fa-e8ac28eb5649.VFMAUKICmWrsT%2BoAiKCW2gJZRL6mGYOk39EB5AVjs7I', 'Content-Length': '85'}\n",
      "Response Status: 200\n",
      "GET sent to: https://hub-beta.demo.alteryx.com/api/v1/jobs/?scheduleId=07db9893-b736-4384-a0c5-6c0a75564414\n",
      "with headers: {'User-Agent': 'python-requests/2.23.0', 'Accept-Encoding': 'gzip,deflate', 'Accept': '*/*', 'Connection': 'keep-alive', 'Content-Type': 'application/json', 'Accept-Language': 'en-US,en;q=0.5', 'Cookie': 'ayxSession=s%3Abfcccf6b-25dd-487e-b7fa-e8ac28eb5649.VFMAUKICmWrsT%2BoAiKCW2gJZRL6mGYOk39EB5AVjs7I'}\n",
      "Response Status: 200\n"
     ]
    },
    {
     "ename": "IndexError",
     "evalue": "list index out of range",
     "output_type": "error",
     "traceback": [
      "\u001b[1;31m---------------------------------------------------------------------------\u001b[0m",
      "\u001b[1;31mIndexError\u001b[0m                                Traceback (most recent call last)",
      "\u001b[1;32m<ipython-input-6-35c8b0dccfb5>\u001b[0m in \u001b[0;36m<module>\u001b[1;34m\u001b[0m\n\u001b[0;32m      8\u001b[0m     \u001b[0mhelpers\u001b[0m\u001b[1;33m.\u001b[0m\u001b[0mtest_cancel_job_functionality\u001b[0m\u001b[1;33m(\u001b[0m\u001b[0mclient\u001b[0m\u001b[1;33m)\u001b[0m\u001b[1;33m\u001b[0m\u001b[1;33m\u001b[0m\u001b[0m\n\u001b[0;32m      9\u001b[0m \u001b[1;33m\u001b[0m\u001b[0m\n\u001b[1;32m---> 10\u001b[1;33m \u001b[0mrun_jobs_integration_tests\u001b[0m\u001b[1;33m(\u001b[0m\u001b[0mdev_client\u001b[0m\u001b[1;33m)\u001b[0m\u001b[1;33m\u001b[0m\u001b[1;33m\u001b[0m\u001b[0m\n\u001b[0m",
      "\u001b[1;32m<ipython-input-6-35c8b0dccfb5>\u001b[0m in \u001b[0;36mrun_jobs_integration_tests\u001b[1;34m(client)\u001b[0m\n\u001b[0;32m      6\u001b[0m     \u001b[0mhelpers\u001b[0m\u001b[1;33m.\u001b[0m\u001b[0mtest_that_server_has_jobs_available\u001b[0m\u001b[1;33m(\u001b[0m\u001b[0mclient\u001b[0m\u001b[1;33m)\u001b[0m\u001b[1;33m\u001b[0m\u001b[1;33m\u001b[0m\u001b[0m\n\u001b[0;32m      7\u001b[0m     \u001b[0mhelpers\u001b[0m\u001b[1;33m.\u001b[0m\u001b[0mtest_can_get_job_by_id\u001b[0m\u001b[1;33m(\u001b[0m\u001b[0mclient\u001b[0m\u001b[1;33m)\u001b[0m\u001b[1;33m\u001b[0m\u001b[1;33m\u001b[0m\u001b[0m\n\u001b[1;32m----> 8\u001b[1;33m     \u001b[0mhelpers\u001b[0m\u001b[1;33m.\u001b[0m\u001b[0mtest_cancel_job_functionality\u001b[0m\u001b[1;33m(\u001b[0m\u001b[0mclient\u001b[0m\u001b[1;33m)\u001b[0m\u001b[1;33m\u001b[0m\u001b[1;33m\u001b[0m\u001b[0m\n\u001b[0m\u001b[0;32m      9\u001b[0m \u001b[1;33m\u001b[0m\u001b[0m\n\u001b[0;32m     10\u001b[0m \u001b[0mrun_jobs_integration_tests\u001b[0m\u001b[1;33m(\u001b[0m\u001b[0mdev_client\u001b[0m\u001b[1;33m)\u001b[0m\u001b[1;33m\u001b[0m\u001b[1;33m\u001b[0m\u001b[0m\n",
      "\u001b[1;32mC:\\projects\\yx_motor\\yx_motor\\seed_integration_tests.py\u001b[0m in \u001b[0;36mtest_cancel_job_functionality\u001b[1;34m(client)\u001b[0m\n\u001b[0;32m    114\u001b[0m             \u001b[1;34m\"scheduleId\"\u001b[0m\u001b[1;33m:\u001b[0m \u001b[0mschedule_id\u001b[0m\u001b[1;33m\u001b[0m\u001b[1;33m\u001b[0m\u001b[0m\n\u001b[0;32m    115\u001b[0m         })\n\u001b[1;32m--> 116\u001b[1;33m         \u001b[0mrunning_job\u001b[0m \u001b[1;33m=\u001b[0m \u001b[0mworkflow_job\u001b[0m\u001b[1;33m.\u001b[0m\u001b[0mjson\u001b[0m\u001b[1;33m(\u001b[0m\u001b[1;33m)\u001b[0m\u001b[1;33m.\u001b[0m\u001b[0mget\u001b[0m\u001b[1;33m(\u001b[0m\u001b[1;34m'jobs'\u001b[0m\u001b[1;33m)\u001b[0m\u001b[1;33m[\u001b[0m\u001b[1;36m0\u001b[0m\u001b[1;33m]\u001b[0m\u001b[1;33m\u001b[0m\u001b[1;33m\u001b[0m\u001b[0m\n\u001b[0m\u001b[0;32m    117\u001b[0m         \u001b[0mrunning_job_id\u001b[0m \u001b[1;33m=\u001b[0m \u001b[0mrunning_job\u001b[0m\u001b[1;33m.\u001b[0m\u001b[0mget\u001b[0m\u001b[1;33m(\u001b[0m\u001b[1;34m'jobId'\u001b[0m\u001b[1;33m)\u001b[0m\u001b[1;33m\u001b[0m\u001b[1;33m\u001b[0m\u001b[0m\n\u001b[0;32m    118\u001b[0m         \u001b[0mrunning_job_status\u001b[0m \u001b[1;33m=\u001b[0m \u001b[0mrunning_job\u001b[0m\u001b[1;33m.\u001b[0m\u001b[0mget\u001b[0m\u001b[1;33m(\u001b[0m\u001b[1;34m'status'\u001b[0m\u001b[1;33m)\u001b[0m\u001b[1;33m\u001b[0m\u001b[1;33m\u001b[0m\u001b[0m\n",
      "\u001b[1;31mIndexError\u001b[0m: list index out of range"
     ]
    }
   ],
   "source": [
    "#hide\n",
    "from yx_motor import seed_integration_tests as helpers\n",
    "\n",
    "def run_jobs_integration_tests(client):\n",
    "    helpers.test_get_log_functionality(client)\n",
    "    helpers.test_can_get_jobs_with_no_args(client)\n",
    "    helpers.test_that_server_has_jobs_available(client)\n",
    "    helpers.test_can_get_job_by_id(client)\n",
    "    helpers.test_cancel_job_functionality(client)\n",
    "\n",
    "run_jobs_integration_tests(dev_client)"
   ]
  },
  {
   "cell_type": "markdown",
   "metadata": {},
   "source": [
    "## Authenticate Integration Tests"
   ]
  },
  {
   "cell_type": "markdown",
   "metadata": {},
   "source": [
    "## Files Integration Tests"
   ]
  },
  {
   "cell_type": "markdown",
   "metadata": {},
   "source": [
    "## Workflows Integration Tests"
   ]
  },
  {
   "cell_type": "code",
   "execution_count": null,
   "metadata": {},
   "outputs": [
    {
     "name": "stdout",
     "output_type": "stream",
     "text": [
      "Converted 01_client.ipynb.\n",
      "Converted 02_jobs.ipynb.\n",
      "Converted 03_api.ipynb.\n",
      "Converted 04_authenticate.ipynb.\n",
      "Converted 05_files.ipynb.\n",
      "Converted 06_workflows.ipynb.\n",
      "Converted index.ipynb.\n",
      "Converted integration_tests.ipynb.\n"
     ]
    }
   ],
   "source": [
    "from nbdev.export import *\n",
    "notebook2script()"
   ]
  },
  {
   "cell_type": "code",
   "execution_count": null,
   "metadata": {},
   "outputs": [],
   "source": []
  }
 ],
 "metadata": {
  "kernelspec": {
   "display_name": "Python 3",
   "language": "python",
   "name": "python3"
  }
 },
 "nbformat": 4,
 "nbformat_minor": 4
}
