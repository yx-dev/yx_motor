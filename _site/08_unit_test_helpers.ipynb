{
 "cells": [
  {
   "cell_type": "code",
   "execution_count": 3,
   "metadata": {},
   "outputs": [],
   "source": [
    "# default_exp tests.utils.unit_test_helpers"
   ]
  },
  {
   "cell_type": "markdown",
   "metadata": {},
   "source": [
    "# Unit Test Helpers\n",
    "> Useful helpers for unit tests"
   ]
  },
  {
   "cell_type": "code",
   "execution_count": 4,
   "metadata": {},
   "outputs": [],
   "source": [
    "#export\n",
    "import pickle\n",
    "from types import SimpleNamespace"
   ]
  },
  {
   "cell_type": "code",
   "execution_count": 5,
   "metadata": {},
   "outputs": [],
   "source": [
    "#export\n",
    "\n",
    "def pickle_object(obj, file_path):\n",
    "    with open(file_path, 'wb') as f:\n",
    "        pickle.dump(obj, f)\n",
    "        \n",
    "def unpickle_object(pickle_path):\n",
    "    with open(pickle_path, 'rb') as f:\n",
    "        return pickle.load(f)"
   ]
  },
  {
   "cell_type": "code",
   "execution_count": 6,
   "metadata": {},
   "outputs": [],
   "source": [
    "#export\n",
    "\n",
    "workflow_test_pickles = SimpleNamespace(\n",
    "    workflow_run_response_pickle = r'test_pickles/workflows/run_workflow_response.pkl',\n",
    "    workflow_get_vfs_inputs_response_pickle_path = r'test_pickles/workflows/get_vfs_inputs_response.pkl',\n",
    "    workflow_job_response_pickle_path = r'test_pickles/workflows/workflow_job_response.pkl',\n",
    "    output_asset_response_pickle_path = r'test_pickles/workflows/output_asset_response.pkl',\n",
    "    workflow_download_files_response_pickle_path = r'test_pickles/workflows/download_files_response.pkl',\n",
    "    download_path = 'wf_out_test.csv'\n",
    ")"
   ]
  },
  {
   "cell_type": "code",
   "execution_count": 7,
   "metadata": {},
   "outputs": [],
   "source": [
    "#export\n",
    "\n",
    "jobs_test_pickles = SimpleNamespace(\n",
    "    get_job_by_id = r'test_pickles/jobs/get_job_by_id_response.pkl',\n",
    "    get_log_by_id = r'test_pickles/jobs/get_log_by_id_response.pkl'\n",
    ")"
   ]
  },
  {
   "cell_type": "code",
   "execution_count": 8,
   "metadata": {},
   "outputs": [],
   "source": [
    "#export\n",
    "\n",
    "authenticate_test_pickles = SimpleNamespace(\n",
    "    authenticate = r'test_pickles/authenticate/authenticate_response.pkl',\n",
    "    logout = r'test_pickles/authenticate/logout_response.pkl'\n",
    ")"
   ]
  },
  {
   "cell_type": "code",
   "execution_count": null,
   "metadata": {},
   "outputs": [],
   "source": []
  }
 ],
 "metadata": {
  "kernelspec": {
   "display_name": "Python 3",
   "language": "python",
   "name": "python3"
  },
  "language_info": {
   "codemirror_mode": {
    "name": "ipython",
    "version": 3
   },
   "file_extension": ".py",
   "mimetype": "text/x-python",
   "name": "python",
   "nbconvert_exporter": "python",
   "pygments_lexer": "ipython3",
   "version": "3.6.8"
  }
 },
 "nbformat": 4,
 "nbformat_minor": 4
}
