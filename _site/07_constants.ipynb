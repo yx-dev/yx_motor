{
 "cells": [
  {
   "cell_type": "code",
   "execution_count": null,
   "metadata": {},
   "outputs": [],
   "source": [
    "# default_exp tests.utils.constants"
   ]
  },
  {
   "cell_type": "markdown",
   "metadata": {},
   "source": [
    "# Test Constants\n",
    "> Useful constants for tests"
   ]
  },
  {
   "cell_type": "code",
   "execution_count": null,
   "metadata": {},
   "outputs": [],
   "source": [
    "#export\n",
    "from pathlib import Path\n",
    "from types import SimpleNamespace"
   ]
  },
  {
   "cell_type": "code",
   "execution_count": null,
   "metadata": {},
   "outputs": [],
   "source": [
    "#export\n",
    "# Note, change this to read a json config file later\n",
    "paths = SimpleNamespace(\n",
    "    questions_workflow_path = Path(r'test_workflows/simple_questions2.yxwz'),\n",
    "    workflow_a_path = Path(r'WorkflowA.yxmd'),\n",
    "    workflow_b_path = Path(r'WorkflowB.yxmd'),\n",
    "    aah_upload_path = r'/Workspaces/Public/'\n",
    ")"
   ]
  },
  {
   "cell_type": "code",
   "execution_count": null,
   "metadata": {},
   "outputs": [],
   "source": [
    "#export\n",
    "def get_workflow_attributes(workflow_json):\n",
    "    return (\n",
    "        workflow_json['path'],\n",
    "        workflow_json['uuid'],\n",
    "        workflow_json['contentId']\n",
    "    )"
   ]
  }
 ],
 "metadata": {
  "kernelspec": {
   "display_name": "Python 3",
   "language": "python",
   "name": "python3"
  }
 },
 "nbformat": 4,
 "nbformat_minor": 4
}
